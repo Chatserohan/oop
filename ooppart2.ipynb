{
 "cells": [
  {
   "cell_type": "code",
   "execution_count": null,
   "metadata": {},
   "outputs": [],
   "source": [
    "Name: Rohan chatse \n",
    "email: rohancrchatse@gmail.com \n",
    "Git link : \n",
    "\n"
   ]
  },
  {
   "cell_type": "markdown",
   "metadata": {},
   "source": [
    "\n",
    "\n",
    "**Constructor:**\n",
    "1. What is a constructor in Python? Explain its purpose and usage.\n"
   ]
  },
  {
   "cell_type": "code",
   "execution_count": null,
   "metadata": {},
   "outputs": [],
   "source": [
    "'''In Python, a constructor is a special method called __init__ that is automatically called \n",
    "when a new object of a class is created. \n",
    "\n",
    "Its main purpose is to initialize the object's attributes with specific values or setup any \n",
    "necessary state when the object is first created. \n",
    "For example, if you have a class for a Car, the __init__ method might set the car's color and model \n",
    "when you create a new Car object. \n",
    "\n",
    "class Car:\n",
    "    def __init__(self, color, model):\n",
    "        self.color = color\n",
    "        self.model = model\n",
    "\n",
    "my_car = Car(\"red\", \"Toyota\")\n",
    "\n",
    "\n",
    "'''"
   ]
  },
  {
   "cell_type": "markdown",
   "metadata": {},
   "source": [
    "2. Differentiate between a parameterless constructor and a parameterized constructor in Python.\n"
   ]
  },
  {
   "cell_type": "code",
   "execution_count": null,
   "metadata": {},
   "outputs": [],
   "source": [
    "'''A parameterless constructor in Python is a constructor that does not take any arguments other \n",
    "than self. \n",
    "It is used to initialize objects with default values. \n",
    "This type of constructor is useful when you want to create instances of a class with preset \n",
    "default attributes or if you plan to set the attributes later through other methods. \n",
    "\n",
    "For example:\n",
    "\n",
    "\n",
    "class Car:\n",
    "    def __init__(self):\n",
    "        self.color = \"unknown\"\n",
    "        self.model = \"unknown\"\n",
    "\n",
    "\n",
    "On the other hand, a parameterized constructor accepts one or more arguments in addition to \n",
    "self, allowing you to initialize an object with specific values provided at the time of \n",
    "creation. \n",
    "This is useful when you want to create an object with custom attributes directly. \n",
    "\n",
    "For instance:\n",
    "\n",
    "class Car:\n",
    "    def __init__(self, color, model):\n",
    "        self.color = color\n",
    "        self.model = model\n",
    "\n",
    "my_car = Car(\"blue\", \"Honda\")\n",
    "```\n",
    "\n",
    "In this example, the parameterized constructor initializes `my_car` with the color \"blue\" and \n",
    "model \"Honda\".'''"
   ]
  },
  {
   "cell_type": "markdown",
   "metadata": {},
   "source": [
    "3. How do you define a constructor in a Python class? Provide an example.\n"
   ]
  },
  {
   "cell_type": "code",
   "execution_count": 1,
   "metadata": {},
   "outputs": [
    {
     "name": "stdout",
     "output_type": "stream",
     "text": [
      "Alice\n",
      "30\n"
     ]
    }
   ],
   "source": [
    "'''\n",
    "In Python, you define a constructor in a class using the __init__ method. \n",
    "This method is automatically called when you create a new instance of the class, \n",
    "allowing you to set up the initial state of the object. \n",
    "The __init__ method takes at least one parameter, self, which refers to the instance being created. \n",
    "You can also include additional parameters to initialize the object's attributes with \n",
    "pecific values.'''\n",
    "\n",
    "class Person:\n",
    "    def __init__(self, name, age):\n",
    "        self.name = name\n",
    "        self.age = age\n",
    "\n",
    "person1 = Person(\"Alice\", 30)\n",
    "\n",
    "print(person1.name)  \n",
    "print(person1.age)   \n"
   ]
  },
  {
   "cell_type": "markdown",
   "metadata": {},
   "source": [
    "4. Explain the `__init__` method in Python and its role in constructors.\n"
   ]
  },
  {
   "cell_type": "code",
   "execution_count": 2,
   "metadata": {},
   "outputs": [
    {
     "name": "stdout",
     "output_type": "stream",
     "text": [
      "Buddy\n",
      "Golden Retriever\n"
     ]
    }
   ],
   "source": [
    "'''The __init__ method in Python is a special method known as the constructor, which plays a crucial \n",
    "role in initializing new objects of a class. \n",
    "When a new instance of a class is created, Python automatically calls the __init__ method to \n",
    "set up the initial state of the object. \n",
    "\n",
    "This method allows you to define and set up the attributes of the object with specific values or \n",
    "perform any necessary setup tasks.\n",
    "\n",
    "\n",
    "It takes at least one parameter, self, which represents the instance being created. \n",
    "You can also include additional parameters to pass values that will be used to initialize the \n",
    "object's attributes. \n",
    "\n",
    "The __init__ method does not return a value its purpose is solely to initialize the object. \n",
    "\n",
    "'''\n",
    "\n",
    "class Dog:\n",
    "    def __init__(self, name, breed):\n",
    "        self.name = name\n",
    "        self.breed = breed\n",
    "\n",
    "my_dog = Dog(\"Buddy\", \"Golden Retriever\")\n",
    "\n",
    "print(my_dog.name)  \n",
    "print(my_dog.breed) \n"
   ]
  },
  {
   "cell_type": "markdown",
   "metadata": {},
   "source": [
    "5. In a class named `Person`, create a constructor that initializes the `name` and `age` attributes. Provide an example of creating an object of this class.\n"
   ]
  },
  {
   "cell_type": "code",
   "execution_count": 3,
   "metadata": {},
   "outputs": [
    {
     "data": {
      "text/plain": [
       "'rohan'"
      ]
     },
     "execution_count": 3,
     "metadata": {},
     "output_type": "execute_result"
    }
   ],
   "source": [
    "class Person :\n",
    "    def __init__(self,name,age):\n",
    "        self.name = name\n",
    "        self.age  = age \n",
    "\n",
    "\n",
    "p1 = Person('rohan',22)\n",
    "\n",
    "p1.name"
   ]
  },
  {
   "cell_type": "markdown",
   "metadata": {},
   "source": [
    "6. How can you call a constructor explicitly in Python? Give an example."
   ]
  },
  {
   "cell_type": "code",
   "execution_count": 4,
   "metadata": {},
   "outputs": [
    {
     "name": "stdout",
     "output_type": "stream",
     "text": [
      "rohan\n",
      "30\n",
      "sohan\n",
      "25\n"
     ]
    }
   ],
   "source": [
    "class Person:\n",
    "    def __init__(self, name, age):\n",
    "        self.name = name\n",
    "        self.age = age\n",
    "\n",
    "\n",
    "person1 = Person(\"rohan\", 30)\n",
    "\n",
    "print(person1.name)  \n",
    "print(person1.age)   \n",
    "\n",
    "person2 = Person.__new__(Person)  \n",
    "person2.__init__(\"sohan\", 25)        \n",
    "print(person2.name)  \n",
    "print(person2.age)   \n"
   ]
  },
  {
   "cell_type": "markdown",
   "metadata": {},
   "source": [
    "7. What is the significance of the `self` parameter in Python constructors? Explain with an example.\n"
   ]
  },
  {
   "cell_type": "code",
   "execution_count": 5,
   "metadata": {},
   "outputs": [
    {
     "name": "stdout",
     "output_type": "stream",
     "text": [
      "Make: Toyota, Model: Corolla\n"
     ]
    }
   ],
   "source": [
    "'''The self parameter in Python constructors (and other methods) is a reference to the instance \n",
    "of the class itself. \n",
    "It allows you to access and modify the instance's attributes and methods. \n",
    "When you define a method within a class, including __init__ (the constructor), self is the \n",
    "way Python knows which object's attributes and methods are being accessed.\n",
    "'''\n",
    "\n",
    "class Car:\n",
    "    def __init__(self, make, model):\n",
    "        self.make = make  \n",
    "        self.model = model  \n",
    "        \n",
    "    def display_info(self):\n",
    "        print(f\"Make: {self.make}, Model: {self.model}\")\n",
    "\n",
    "my_car = Car(\"Toyota\", \"Corolla\")\n",
    "\n",
    "my_car.display_info()  "
   ]
  },
  {
   "cell_type": "markdown",
   "metadata": {},
   "source": [
    "8. Discuss the concept of default constructors in Python. When are they used?\n"
   ]
  },
  {
   "cell_type": "code",
   "execution_count": 11,
   "metadata": {},
   "outputs": [
    {
     "name": "stdout",
     "output_type": "stream",
     "text": [
      "Unknown\n",
      "0\n"
     ]
    }
   ],
   "source": [
    "'''In Python, a default constructor is a constructor that is automatically provided by the language \n",
    "if you do not explicitly define any constructor in your class. \n",
    "It is essentially a parameterless __init__ method that initializes the object without setting \n",
    "any custom values. \n",
    "If you define your own __init__ method with parameters, the default constructor is not used, \n",
    "and you must explicitly provide values for those parameters when creating an instance.\n",
    "\n",
    "When are default constructors used\n",
    "\n",
    "Default constructors are useful when you don't need to initialize any attributes with specific \n",
    "values at the time of object creation. \n",
    "They allow you to create instances of the class with default or placeholder values.\n",
    "\n",
    "They simplify object creation when the class doesn't require any special initialization beyond \n",
    "default values.'''\n",
    "\n",
    "class Animal:\n",
    "    def __init__(self):\n",
    "        self.species = \"Unknown\"\n",
    "        self.age = 0\n",
    "\n",
    "animal1 = Animal()\n",
    "\n",
    "print(animal1.species)  \n",
    "print(animal1.age)      \n"
   ]
  },
  {
   "cell_type": "markdown",
   "metadata": {},
   "source": [
    "9. Create a Python class called `Rectangle` with a constructor that initializes the `width` and `height` attributes. Provide a method to calculate the area of the rectangle.\n"
   ]
  },
  {
   "cell_type": "code",
   "execution_count": 13,
   "metadata": {},
   "outputs": [
    {
     "data": {
      "text/plain": [
       "200"
      ]
     },
     "execution_count": 13,
     "metadata": {},
     "output_type": "execute_result"
    }
   ],
   "source": [
    "class Rectangle:\n",
    "    def __init__(self,width,height):\n",
    "        self.height = height \n",
    "        self.width = width \n",
    "    \n",
    "    def area_of_reactringle(self):\n",
    "        return self.width*self.height \n",
    "    \n",
    "r1 = Rectangle(10,20)\n",
    "r1.area_of_reactringle()"
   ]
  },
  {
   "cell_type": "markdown",
   "metadata": {},
   "source": [
    "10. How can you have multiple constructors in a Python class? Explain with an example.\n"
   ]
  },
  {
   "cell_type": "code",
   "execution_count": 5,
   "metadata": {},
   "outputs": [
    {
     "name": "stdout",
     "output_type": "stream",
     "text": [
      "Title: 1984, Author: dfefr, Year: 1949\n",
      "Title: To fgreg, Author: Harfgr, Year: Unknown\n",
      "Title: The Great Gatsby, Author: None, Year: Unknown\n",
      "25\n",
      "24\n",
      "0\n",
      "Name: Rohan, Age: 30\n",
      "Name: sohan, Age: 34\n"
     ]
    }
   ],
   "source": [
    "'''\n",
    "In Python, a class can only have one __init__ method, which serves as the constructor. \n",
    "However, you can achieve the effect of multiple constructors by using default arguments, \n",
    "variable-length arguments, or class methods that act as alternative constructors.'''\n",
    "\n",
    "'''1. Using Default Arguments\n",
    "You can use default arguments in the __init__ method to allow for different ways of initializing \n",
    "an object.\n",
    "'''\n",
    "class Book:\n",
    "    def __init__(self, title, author=None, year=None):\n",
    "        self.title = title\n",
    "        self.author = author\n",
    "        self.year = year\n",
    "\n",
    "    def display_info(self):\n",
    "        return f\"Title: {self.title}, Author: {self.author}, Year: {self.year if self.year else 'Unknown'}\"\n",
    "\n",
    "book1 = Book(\"1984\", \"dfefr\", 1949)\n",
    "book2 = Book(\"To fgreg\", \"Harfgr\")\n",
    "book3 = Book(\"The Great Gatsby\")\n",
    "\n",
    "print(book1.display_info())  \n",
    "print(book2.display_info())  \n",
    "print(book3.display_info())  \n",
    "\n",
    "'''2. Using Variable-Length Arguments\n",
    "You can use *args and **kwargs in the __init__ method to handle varying numbers and types of arguments.\n",
    "\n",
    "\n",
    "'''\n",
    "\n",
    "class Rectangle:\n",
    "    def __init__(self, *args):\n",
    "        if len(args) == 1:\n",
    "            self.width = self.height = args[0]\n",
    "        elif len(args) == 2:\n",
    "            self.width, self.height = args\n",
    "        else:\n",
    "            self.width = self.height = 0\n",
    "\n",
    "    def area(self):\n",
    "        return self.width * self.height\n",
    "\n",
    "square = Rectangle(5)\n",
    "rectangle = Rectangle(4, 6)\n",
    "default_rectangle = Rectangle()\n",
    "\n",
    "print(square.area())         \n",
    "print(rectangle.area())      \n",
    "print(default_rectangle.area())\n",
    "\n",
    "\n",
    "'''3. Using Class Methods as Alternative Constructors\n",
    "You can define class methods that act as alternative constructors to provide different ways to \n",
    "create an instance of the class.'''\n",
    "\n",
    "class Person:\n",
    "    def __init__(self, name, age):\n",
    "        self.name = name\n",
    "        self.age = age\n",
    "\n",
    "    @classmethod\n",
    "    def from_birth_year(cls, name, birth_year):\n",
    "        from datetime import datetime\n",
    "        current_year = datetime.now().year\n",
    "        age = current_year - birth_year\n",
    "        return cls(name, age)\n",
    "\n",
    "    def display_info(self):\n",
    "        return f\"Name: {self.name}, Age: {self.age}\"\n",
    "\n",
    "person1 = Person(\"Rohan\", 30)\n",
    "person2 = Person.from_birth_year(\"sohan\", 1990)\n",
    "\n",
    "print(person1.display_info())  \n",
    "print(person2.display_info())  "
   ]
  },
  {
   "cell_type": "markdown",
   "metadata": {},
   "source": [
    "11. What is method overloading, and how is it related to constructors in Python?\n"
   ]
  },
  {
   "cell_type": "code",
   "execution_count": null,
   "metadata": {},
   "outputs": [],
   "source": [
    "'''\n",
    "Method overloading is a concept where multiple methods have the same name but differ in \n",
    "the number or type of their parameters. \n",
    "\n",
    "It allows a class to handle different types of input using the same method name, \n",
    "making the class more versatile and user-friendly. \n",
    "\n",
    "However, Python does not support traditional method overloading as seen in languages \n",
    "like Java or C++. \n",
    "\n",
    "Instead, Python achieves similar functionality through default arguments, variable-length \n",
    "arguments, or by using class methods and static methods.'''"
   ]
  },
  {
   "cell_type": "markdown",
   "metadata": {},
   "source": [
    "12. Explain the use of the `super()` function in Python constructors. Provide an example.\n"
   ]
  },
  {
   "cell_type": "code",
   "execution_count": null,
   "metadata": {},
   "outputs": [],
   "source": [
    "'''\n",
    "The super() function in Python is used to call methods from a parent class in a child class, \n",
    "allowing you to leverage or extend functionality from the parent class. \n",
    "\n",
    "When used in constructors, super() helps initialize the parent class's attributes or methods, \n",
    "ensuring that the initialization code in the parent class is executed.\n",
    "\n",
    "Purpose of super() in Constructors:\n",
    "\n",
    "In a class hierarchy, you often need to initialize attributes or perform setup tasks defined \n",
    "in a parent class. \n",
    "Using super() ensures that the parent class's constructor is called, which is especially \n",
    "important when extending or modifying the behavior of the parent class.\n",
    "\n",
    "By calling super(), you avoid duplicating initialization code that is already present \n",
    "in the parent class.'''\n",
    "\n",
    "\n",
    "class Animal:\n",
    "    def __init__(self, name, age):\n",
    "        self.name = name\n",
    "        self.age = age\n",
    "\n",
    "    def speak(self):\n",
    "        return \"Animal sound\"\n",
    "\n",
    "class Dog(Animal):\n",
    "    def __init__(self, name, age, breed):\n",
    "        super().__init__(name, age)  \n",
    "        self.breed = breed\n",
    "\n",
    "    def speak(self):\n",
    "        return \"Woof!\"\n",
    "\n",
    "my_dog = Dog(\"Buddy\", 3, \"Golden Retriever\")\n",
    "\n",
    "print(f\"Name: {my_dog.name}\")      \n",
    "print(f\"Age: {my_dog.age}\")        \n",
    "print(f\"Breed: {my_dog.breed}\")    \n",
    "print(f\"Sound: {my_dog.speak()}\")  \n"
   ]
  },
  {
   "cell_type": "markdown",
   "metadata": {},
   "source": [
    "13. Create a class called `Book` with a constructor that initializes the `title`, `author`, and `published_year` attributes. Provide a method to display book details.\n"
   ]
  },
  {
   "cell_type": "code",
   "execution_count": 7,
   "metadata": {},
   "outputs": [
    {
     "data": {
      "text/plain": [
       "'The book concept of physics is written by hc verma in 2015'"
      ]
     },
     "execution_count": 7,
     "metadata": {},
     "output_type": "execute_result"
    }
   ],
   "source": [
    "class Book:\n",
    "    def __init__(self,title,author,published_year):\n",
    "        self.title = title \n",
    "        self.author = author \n",
    "        self.published_year = published_year\n",
    "\n",
    "    def show_book_detail(self):\n",
    "        return f'The book {self.title} is written by {self.author} in {self.published_year}'\n",
    "\n",
    "\n",
    "b1 = Book('concept of physics','hc verma',2015)\n",
    "b1.show_book_detail() "
   ]
  },
  {
   "cell_type": "markdown",
   "metadata": {},
   "source": [
    "14. Discuss the differences between constructors and regular methods in Python classes.\n"
   ]
  },
  {
   "cell_type": "code",
   "execution_count": null,
   "metadata": {},
   "outputs": [],
   "source": [
    "'''Constructors and regular methods in Python classes serve different purposes and have \n",
    "distinct characteristics. \n",
    "\n",
    "Constructor - defined by the `__init__` method, is a special method that is automatically \n",
    "called when a new instance of a class is created. \n",
    "\n",
    "Its primary role is to initialize the object's attributes and set up the initial state of \n",
    "the object. \n",
    "\n",
    "The `__init__` method takes `self` as its first parameter, followed by any additional \n",
    "parameters needed to initialize the object. \n",
    "\n",
    "It does not return any value and is invoked implicitly when an object is instantiated.\n",
    "\n",
    "\n",
    "\n",
    "Regular methods - are defined within a class to perform specific actions or computations \n",
    "related to the object. \n",
    "\n",
    "They are called on an existing instance of the class and can be used to manipulate the \n",
    "object's attributes, perform calculations, or provide other functionalities. \n",
    "\n",
    "Regular methods, unlike constructors, must be explicitly called on an instance and can \n",
    "return values or modify the state of the object. \n",
    "\n",
    "They are defined with the `self` parameter as their first argument, allowing them to access \n",
    "and modify the instance's attributes and invoke other methods within the class.'''"
   ]
  },
  {
   "cell_type": "markdown",
   "metadata": {},
   "source": [
    "15. Explain the role of the `self` parameter in instance variable initialization within a constructor.\n"
   ]
  },
  {
   "cell_type": "code",
   "execution_count": null,
   "metadata": {},
   "outputs": [],
   "source": [
    "'''The `self` parameter in a constructor (or any method within a class) is crucial for \n",
    "initializing instance variables because it represents the current object being created \n",
    "or manipulated. \n",
    "\n",
    "When you use `self` in a constructor, you are assigning values to the object's attributes, \n",
    "which are unique to that specific instance. \n",
    "\n",
    "For example, in the constructor `__init__(self, name, age)`, \n",
    "                                    self.name = name \n",
    "                                    self.age = age\n",
    "sets the `name` attribute of the current object to the value provided, and `self.age = age` \n",
    "does the same for the `age` attribute. \n",
    "\n",
    "This way, each object can have its own set of attributes, initialized with the values passed \n",
    "during creation, making `self` essential for managing and accessing the \n",
    "instance-specific data.'''"
   ]
  },
  {
   "cell_type": "markdown",
   "metadata": {},
   "source": [
    "16. How do you prevent a class from having multiple instances by using constructors in Python? \n"
   ]
  },
  {
   "cell_type": "code",
   "execution_count": 10,
   "metadata": {},
   "outputs": [
    {
     "data": {
      "text/plain": [
       "'To prevent a class from having multiple instances in Python, you can implement a \\ndesign pattern known as the Singleton pattern. \\n\\nThis pattern ensures that only one instance of the class is created and provides a global \\npoint of access to that instance. \\n\\nYou can achieve this by modifying the class constructor to check if an instance already \\nexists and, if so, returning the existing instance instead of creating a new one.\\n\\n'"
      ]
     },
     "execution_count": 10,
     "metadata": {},
     "output_type": "execute_result"
    }
   ],
   "source": [
    "'''To prevent a class from having multiple instances in Python, you can implement a \n",
    "design pattern known as the Singleton pattern. \n",
    "\n",
    "This pattern ensures that only one instance of the class is created and provides a global \n",
    "point of access to that instance. \n",
    "\n",
    "You can achieve this by modifying the class constructor to check if an instance already \n",
    "exists and, if so, returning the existing instance instead of creating a new one.\n",
    "\n",
    "'''\n"
   ]
  },
  {
   "cell_type": "markdown",
   "metadata": {},
   "source": [
    "17. Create a Python class called `Student` with a constructor that takes a list of subjects as a parameter and initializes the `subjects` attribute.\n"
   ]
  },
  {
   "cell_type": "code",
   "execution_count": 13,
   "metadata": {},
   "outputs": [
    {
     "name": "stdout",
     "output_type": "stream",
     "text": [
      "Subjects enrolled:\n",
      "Mathematics\n",
      "Science\n",
      "cs\n",
      "Physics\n"
     ]
    }
   ],
   "source": [
    "class Student:\n",
    "    def __init__(self, subjects):\n",
    "        self.subjects = subjects\n",
    "\n",
    "    def display_subjects(self):\n",
    "        print(\"Subjects enrolled:\")\n",
    "        for subject in self.subjects:\n",
    "            print(subject)\n",
    "\n",
    "student1 = Student([\"Mathematics\", \"Science\", \"cs\", \"Physics\"])\n",
    "\n",
    "student1.display_subjects()\n"
   ]
  },
  {
   "cell_type": "markdown",
   "metadata": {},
   "source": [
    "18. What is the purpose of the `__del__` method in Python classes, and how does it relate to constructors?\n"
   ]
  },
  {
   "cell_type": "code",
   "execution_count": null,
   "metadata": {},
   "outputs": [],
   "source": [
    "'''\n",
    "The __del__ method in Python is known as the destructor method. \n",
    "It is automatically called when an object is about to be destroyed, which typically happens \n",
    "when its reference count drops to zero. \n",
    "\n",
    "The primary purpose of the __del__ method is to perform any necessary cleanup operations \n",
    "before the object is removed from memory. \n",
    "\n",
    "This can include releasing resources like file handles, closing network connections, or \n",
    "deleting temporary files.'''"
   ]
  },
  {
   "cell_type": "markdown",
   "metadata": {},
   "source": [
    "19. Explain the use of constructor chaining in Python. Provide a practical example.\n"
   ]
  },
  {
   "cell_type": "code",
   "execution_count": 15,
   "metadata": {},
   "outputs": [
    {
     "name": "stdout",
     "output_type": "stream",
     "text": [
      "Name: sohan\n",
      "ID Number: E12345\n",
      "Address: Not Provided\n",
      "\n",
      "Name: aniket\n",
      "ID Number: E67890\n",
      "Address: 123 Elm Street\n"
     ]
    }
   ],
   "source": [
    "'''\n",
    "Constructor chaining in Python involves calling one constructor from another within the \n",
    "same class or across different classes. \n",
    "\n",
    "This practice helps reuse code and ensures that common initialization logic is executed \n",
    "regardless of how an object is instantiated. \n",
    "\n",
    "While Python doesn't have explicit support for constructor chaining as seen in some other \n",
    "languages, you can achieve similar functionality by calling one constructor from another \n",
    "within the class or using class methods to manage different initialization scenarios.'''\n",
    "\n",
    "\n",
    "class Employee:\n",
    "    def __init__(self, name, id_number, address=None):\n",
    "        if address:\n",
    "            self.initialize_full(name, id_number, address)\n",
    "        else:\n",
    "            self.initialize_basic(name, id_number)\n",
    "    \n",
    "    def initialize_basic(self, name, id_number):\n",
    "        self.name = name\n",
    "        self.id_number = id_number\n",
    "        self.address = \"Not Provided\"\n",
    "    \n",
    "    def initialize_full(self, name, id_number, address):\n",
    "        self.name = name\n",
    "        self.id_number = id_number\n",
    "        self.address = address\n",
    "\n",
    "    def display_details(self):\n",
    "        print(f\"Name: {self.name}\")\n",
    "        print(f\"ID Number: {self.id_number}\")\n",
    "        print(f\"Address: {self.address}\")\n",
    "\n",
    "emp1 = Employee(\"sohan\", \"E12345\")\n",
    "emp2 = Employee(\"aniket\", \"E67890\", \"123 Elm Street\")\n",
    "\n",
    "emp1.display_details()\n",
    "print()  \n",
    "emp2.display_details()\n"
   ]
  },
  {
   "cell_type": "markdown",
   "metadata": {},
   "source": [
    "20. Create a Python class called `Car` with a default constructor that initializes the `make` and `model` attributes. Provide a method to display car information.\n"
   ]
  },
  {
   "cell_type": "code",
   "execution_count": 16,
   "metadata": {},
   "outputs": [
    {
     "name": "stdout",
     "output_type": "stream",
     "text": [
      "Car 1 Information:\n",
      "Make: Unknown\n",
      "Model: Unknown\n",
      "\n",
      "Car 2 Information:\n",
      "Make: Toyota\n",
      "Model: Corolla\n"
     ]
    }
   ],
   "source": [
    "class Car:\n",
    "    def __init__(self, make=\"Unknown\", model=\"Unknown\"):\n",
    "        self.make = make\n",
    "        self.model = model\n",
    "\n",
    "    def display_info(self):\n",
    "        print(f\"Make: {self.make}\")\n",
    "        print(f\"Model: {self.model}\")\n",
    "\n",
    "car1 = Car()  \n",
    "car2 = Car(\"Toyota\", \"Corolla\")  \n",
    "\n",
    "print(\"Car 1 Information:\")\n",
    "car1.display_info()\n",
    "print()  \n",
    "print(\"Car 2 Information:\")\n",
    "car2.display_info()\n"
   ]
  },
  {
   "cell_type": "markdown",
   "metadata": {},
   "source": [
    "\n",
    "**Inheritance:**\n",
    "1. What is inheritance in Python? Explain its significance in object-oriented programming.\n"
   ]
  },
  {
   "cell_type": "code",
   "execution_count": null,
   "metadata": {},
   "outputs": [],
   "source": [
    "'''Inheritance in Python is a fundamental concept in object-oriented programming (OOP) where \n",
    "a new class, known as a child or derived class, inherits attributes and methods from an \n",
    "existing class, known as a parent or base class. This allows the child class to reuse and extend the functionality of the parent class, promoting code reusability and modular design.\n",
    "\n",
    "Significance of Inheritance:\n",
    "\n",
    "Code Reusability: Inheritance allows the child class to reuse code from the parent class. \n",
    "This means you don't need to rewrite common functionality, which reduces redundancy and makes \n",
    "the code more maintainable. \n",
    "For example, if multiple classes share similar methods or attributes, you can place these \n",
    "in a common parent class and have the child classes inherit from it.\n",
    "\n",
    "Modularity and Extensibility: By organizing code into parent and child classes, you can \n",
    "create a modular design where changes in the parent class can be automatically \n",
    "reflected in child classes. \n",
    "This makes it easier to extend and modify functionality. For instance, if you need to \n",
    "update a method in the parent class, all derived classes that inherit this method will \n",
    "automatically benefit from the update.\n",
    "\n",
    "Hierarchical Relationships: Inheritance helps model real-world relationships and hierarchies. \n",
    "For example, in a system representing animals, you might have a base class Animal \n",
    "with derived classes such as Dog and Cat. \n",
    "This hierarchy reflects the natural classification and allows for specialized behavior 0\n",
    "in derived classes while maintaining common behavior in the parent class.'''"
   ]
  },
  {
   "cell_type": "markdown",
   "metadata": {},
   "source": [
    "2. Differentiate between single inheritance and multiple inheritance in Python. Provide examples for each.\n"
   ]
  },
  {
   "cell_type": "code",
   "execution_count": null,
   "metadata": {},
   "outputs": [],
   "source": [
    "'''\n",
    "In Python, inheritance allows one class to inherit attributes and methods from another class. \n",
    "There are different types of inheritance, with single inheritance and multiple inheritance \n",
    "being two fundamental ones.\n",
    "\n",
    "\n",
    "Single Inheritance\n",
    "\n",
    "In single inheritance, a class (known as the child or subclass) inherits from a single parent \n",
    "class (known as the base or superclass). \n",
    "This is the most straightforward form of inheritance and is useful when you have a clear \n",
    "hierarchical relationship between classes.\n",
    "\n",
    "\n",
    "Multiple Inheritance\n",
    "\n",
    "In multiple inheritance, a class can inherit from more than one parent class. \n",
    "This allows the derived class to combine and use methods and attributes from multiple base \n",
    "classes. \n",
    "Multiple inheritance can be powerful but also complex, as it may introduce issues like the \n",
    "Diamond Problem (where a method from a common ancestor is inherited through multiple paths).\n",
    "\n",
    "'''\n"
   ]
  },
  {
   "cell_type": "markdown",
   "metadata": {},
   "source": [
    "3. Create a Python class called `Vehicle` with attributes `color` and `speed`. Then, create a child class called `Car` that inherits from `Vehicle` and adds a `brand` attribute. Provide an example of creating a `Car` object.\n"
   ]
  },
  {
   "cell_type": "code",
   "execution_count": 1,
   "metadata": {},
   "outputs": [
    {
     "name": "stdout",
     "output_type": "stream",
     "text": [
      "Color: Red, Speed: 120 km/h, Brand: Toyota\n"
     ]
    }
   ],
   "source": [
    "\n",
    "class Vehicle:\n",
    "    def __init__(self, color, speed):\n",
    "        self.color = color\n",
    "        self.speed = speed\n",
    "\n",
    "    def display_info(self):\n",
    "        return f\"Color: {self.color}, Speed: {self.speed} km/h\"\n",
    "\n",
    "class Car(Vehicle):\n",
    "    def __init__(self, color, speed, brand):\n",
    "        super().__init__(color, speed)\n",
    "        self.brand = brand\n",
    "\n",
    "    def display_info(self):\n",
    "        base_info = super().display_info()\n",
    "        return f\"{base_info}, Brand: {self.brand}\"\n",
    "\n",
    "my_car = Car(color=\"Red\", speed=120, brand=\"Toyota\")\n",
    "\n",
    "print(my_car.display_info())\n"
   ]
  },
  {
   "cell_type": "markdown",
   "metadata": {},
   "source": [
    "4. Explain the concept of method overriding in inheritance. Provide a practical example.\n"
   ]
  },
  {
   "cell_type": "code",
   "execution_count": null,
   "metadata": {},
   "outputs": [],
   "source": [
    "'''Method overriding is a concept in object-oriented programming where a subclass provides a \n",
    "specific implementation of a method that is already defined in its superclass. \n",
    "\n",
    "This allows the subclass to modify or extend the behavior of the method from the parent class. \n",
    "Overriding is a way to customize or enhance inherited behavior without changing the original \n",
    "implementation in the parent class.\n",
    "\n",
    "Key Points of Method Overriding\n",
    "\n",
    "Same Method Name: The method in the subclass must have the same name as the method in the superclass.\n",
    "Same Parameters: The method in the subclass should have the same parameter list (signature) as the \n",
    "method in the superclass.\n",
    "Polymorphism: Overriding is a key aspect of polymorphism, allowing objects to be treated as \n",
    "instances of their superclass while still invoking the subclass's overridden methods.'''\n",
    "\n",
    "\n",
    "class Animal:\n",
    "    def make_sound(self):\n",
    "        return \"Some generic animal sound\"\n",
    "\n",
    "class Dog(Animal):\n",
    "    def make_sound(self):\n",
    "        return \"Bark\"\n",
    "\n",
    "class Cat(Animal):\n",
    "    def make_sound(self):\n",
    "        return \"Meow\"\n",
    "\n",
    "my_dog = Dog()\n",
    "my_cat = Cat()\n",
    "\n",
    "print(my_dog.make_sound())  \n",
    "print(my_cat.make_sound())  \n"
   ]
  },
  {
   "cell_type": "markdown",
   "metadata": {},
   "source": [
    "5. How can you access the methods and attributes of a parent class from a child class in Python? Give an example.\n"
   ]
  },
  {
   "cell_type": "code",
   "execution_count": null,
   "metadata": {},
   "outputs": [],
   "source": [
    "'''\n",
    "In Python, a child class can access methods and attributes of its parent class using the super() \n",
    "function and direct class references. \n",
    "This allows the child class to reuse and extend the functionality provided by the parent class.'''\n",
    "\n",
    "'''Using super():\n",
    "\n",
    "The super() function returns a temporary object of the superclass that allows access to its \n",
    "methods and attributes.\n",
    "It is commonly used in the child class's methods to call methods from the parent class.\n",
    "\n",
    "Direct Class Reference:\n",
    "\n",
    "You can also directly reference the parent class using its name to access methods and attributes, \n",
    "though this is less common and often less preferred than using super().\n",
    "'''\n",
    "\n",
    "\n",
    "class Vehicle:\n",
    "    def __init__(self, color, speed):\n",
    "        self.color = color\n",
    "        self.speed = speed\n",
    "\n",
    "    def display_info(self):\n",
    "        return f\"Color: {self.color}, Speed: {self.speed} km/h\"\n",
    "\n",
    "    def start_engine(self):\n",
    "        return \"Engine started\"\n",
    "\n",
    "class Car(Vehicle):\n",
    "    def __init__(self, color, speed, brand):\n",
    "        super().__init__(color, speed)\n",
    "        self.brand = brand\n",
    "\n",
    "    def display_info(self):\n",
    "        base_info = super().display_info()\n",
    "        return f\"{base_info}, Brand: {self.brand}\"\n",
    "\n",
    "    def start_engine(self):\n",
    "        engine_status = super().start_engine()\n",
    "        return f\"{engine_status} - Car engine is now running\"\n",
    "\n",
    "my_car = Car(color=\"Red\", speed=120, brand=\"Toyota\")\n",
    "\n",
    "print(my_car.display_info())     \n",
    "print(my_car.start_engine())     \n"
   ]
  },
  {
   "cell_type": "markdown",
   "metadata": {},
   "source": [
    "6. Discuss the use of the `super()` function in Python inheritance. When and why is it used? Provide an example.\n"
   ]
  },
  {
   "cell_type": "code",
   "execution_count": null,
   "metadata": {},
   "outputs": [],
   "source": [
    "'''The `super()` function in Python is essential for managing inheritance in object-oriented \n",
    "programming. \n",
    "It allows a child class to access and invoke methods from its parent class, facilitating code \n",
    "reuse and extension. \n",
    "\n",
    "By using `super()`, you can call parent class methods without explicitly naming the parent \n",
    "class, which avoids hard-coding class names and enhances code maintainability. \n",
    "\n",
    "This is especially useful in complex class hierarchies and multiple inheritance scenarios, \n",
    "where `super()` ensures that the method resolution order (MRO) is respected, preventing \n",
    "issues related to method conflicts. \n",
    "\n",
    "For example, if you have a parent class `Animal` with a method `speak`, and a child class \n",
    "`Dog` that overrides `speak` to add additional behavior, using `super().\n",
    "speak()` in the `Dog` class allows you to extend the functionality of `speak` rather than \n",
    "completely replacing it. \n",
    "\n",
    "Similarly, `super()` can be used in constructors (`__init__` methods) to initialize attributes \n",
    "from parent classes, ensuring that the parent class's initialization logic is executed. \n",
    "\n",
    "Overall, `super()` provides a flexible and reliable way to manage and extend inherited functionality.'''\n",
    "\n",
    "class Animal:\n",
    "    def __init__(self, name):\n",
    "        self.name = name\n",
    "\n",
    "    def speak(self):\n",
    "        return \"Some generic sound\"\n",
    "\n",
    "class Dog(Animal):\n",
    "    def __init__(self, name, breed):\n",
    "        super().__init__(name)\n",
    "        self.breed = breed\n",
    "\n",
    "    def speak(self):\n",
    "        return super().speak() + \" and bark\"\n",
    "\n",
    "my_dog = Dog(name=\"Rex\", breed=\"Labrador\")\n",
    "\n",
    "print(my_dog.name)     \n",
    "print(my_dog.breed)    \n",
    "print(my_dog.speak())  \n"
   ]
  },
  {
   "cell_type": "markdown",
   "metadata": {},
   "source": [
    "7. Create a Python class called `Animal` with a method `speak()`. Then, create child classes `Dog` and `Cat` that inherit from `Animal` and override the `speak()` method. Provide an example of using these classes.\n"
   ]
  },
  {
   "cell_type": "code",
   "execution_count": 6,
   "metadata": {},
   "outputs": [
    {
     "name": "stdout",
     "output_type": "stream",
     "text": [
      "Dog says: Woof!\n",
      "Cat says: Meow\n"
     ]
    }
   ],
   "source": [
    "\n",
    "class Animal:\n",
    "    def speak(self):\n",
    "        return \"Some generic animal sound\"\n",
    "\n",
    "class Dog(Animal):\n",
    "    def speak(self):\n",
    "        return \"Woof!\"\n",
    "\n",
    "class Cat(Animal):\n",
    "    def speak(self):\n",
    "        return \"Meow\"\n",
    "\n",
    "def main():\n",
    "    \n",
    "    my_dog = Dog()\n",
    "    my_cat = Cat()\n",
    "\n",
    "    print(\"Dog says:\", my_dog.speak())  \n",
    "    print(\"Cat says:\", my_cat.speak())  \n",
    "\n",
    "if __name__ == \"__main__\":\n",
    "    main()\n"
   ]
  },
  {
   "cell_type": "markdown",
   "metadata": {},
   "source": [
    "8. Explain the role of the `isinstance()` function in Python and how it relates to inheritance.\n"
   ]
  },
  {
   "cell_type": "code",
   "execution_count": null,
   "metadata": {},
   "outputs": [],
   "source": [
    "'''The isinstance() function in Python is used to check if an object is an instance of a specified \n",
    "class or a tuple of classes. \n",
    "This function plays a crucial role in type checking and supports inheritance by allowing you \n",
    "to determine if an object is an instance of a class or its subclasses.\n",
    "\n",
    "isinstance(object, classinfo)\n",
    "'''\n",
    "\n",
    "'''Role of isinstance()\n",
    "Type Checking:\n",
    "\n",
    "isinstance() helps in verifying the type of an object, which can be useful for ensuring that the o\n",
    "bject meets certain requirements or behaves in a specific way.\n",
    "\n",
    "Support for Inheritance:\n",
    "\n",
    "When checking if an object is an instance of a class, isinstance() also considers the object's \n",
    "class hierarchy. \n",
    "This means it checks not only if the object is an instance of the specified class but also if it is an instance of any subclass of that class.\n",
    "Polymorphism:\n",
    "\n",
    "In polymorphic code where methods or functions operate on objects of various types, \n",
    "isinstance() can be used to ensure that the object is of the expected type or class before \n",
    "performing operations on it.'''"
   ]
  },
  {
   "cell_type": "markdown",
   "metadata": {},
   "source": [
    "9. What is the purpose of the `issubclass()` function in Python? Provide an example.\n"
   ]
  },
  {
   "cell_type": "code",
   "execution_count": 7,
   "metadata": {},
   "outputs": [
    {
     "name": "stdout",
     "output_type": "stream",
     "text": [
      "True\n",
      "True\n",
      "True\n",
      "True\n",
      "False\n",
      "False\n"
     ]
    }
   ],
   "source": [
    "'''\n",
    "The issubclass() function in Python is used to check if a class is a subclass of another class. \n",
    "This function helps in determining the class hierarchy and is particularly useful for type \n",
    "checking and enforcing constraints in object-oriented programming.\n",
    "\n",
    "issubclass(class, classinfo)\n",
    "\n",
    "\n",
    "Purpose of issubclass()\n",
    "\n",
    "Class Hierarchy Checking:\n",
    "\n",
    "issubclass() allows you to check whether a given class inherits from another class, either directly \n",
    "or indirectly. \n",
    "This helps in understanding the class hierarchy and relationships.\n",
    "\n",
    "Type Constraints:\n",
    "\n",
    "It can be used to enforce constraints where certain operations are only valid for subclasses \n",
    "of a particular class.\n",
    "\n",
    "Polymorphism and Design:\n",
    "\n",
    "In designs involving polymorphism, issubclass() can be used to ensure that objects conform to \n",
    "expected class hierarchies and behaviors.\n",
    "'''\n",
    "\n",
    "class Animal:\n",
    "    pass\n",
    "\n",
    "class Dog(Animal):\n",
    "    pass\n",
    "\n",
    "class Cat(Animal):\n",
    "    pass\n",
    "\n",
    "class Labrador(Dog):\n",
    "    pass\n",
    "\n",
    "print(issubclass(Dog, Animal))       \n",
    "print(issubclass(Cat, Animal))      \n",
    "print(issubclass(Labrador, Dog))   \n",
    "print(issubclass(Labrador, Animal)) \n",
    "print(issubclass(Animal, Dog))       \n",
    "print(issubclass(int, Animal))       \n",
    "\n",
    "\n"
   ]
  },
  {
   "cell_type": "markdown",
   "metadata": {},
   "source": [
    "10. Discuss the concept of constructor inheritance in Python. How are constructors inherited in child classes?\n"
   ]
  },
  {
   "cell_type": "code",
   "execution_count": null,
   "metadata": {},
   "outputs": [],
   "source": [
    "'''In Python, constructors are inherited in child classes, but their behavior can be influenced \n",
    "by how they are used in the child classes. \n",
    "\n",
    "Heres a detailed discussion of constructor inheritance, how constructors are inherited, and how \n",
    "they can be customized in child classes:\n",
    "\n",
    "Constructor Inheritance\n",
    "Basic Inheritance:\n",
    "\n",
    "When you create a child class, it automatically inherits the constructor (__init__ method) of its \n",
    "parent class. \n",
    "If the child class does not define its own __init__ method, it will use the constructor of the \n",
    "parent class.\n",
    "\n",
    "Overriding Constructors:\n",
    "\n",
    "If a child class defines its own __init__ method, it overrides the constructor of the parent class. \n",
    "The child class’s constructor is then called when an instance of the child class is created.\n",
    "\n",
    "Calling the Parent Constructor:\n",
    "\n",
    "It is a common practice to call the parent class’s constructor from within the child class’s \n",
    "constructor using super(). \n",
    "\n",
    "This ensures that the parent class is properly initialized before or after the child class’s \n",
    "own initialization logic is applied.\n",
    "'''"
   ]
  },
  {
   "cell_type": "markdown",
   "metadata": {},
   "source": [
    "11. Create a Python class called `Shape` with a method `area()` that calculates the area of a shape. Then, create child classes `Circle` and `Rectangle` that inherit from `Shape` and implement the `area()` method accordingly. Provide an example.\n"
   ]
  },
  {
   "cell_type": "code",
   "execution_count": 8,
   "metadata": {},
   "outputs": [],
   "source": [
    "import math\n",
    "\n",
    "class Shape:\n",
    "    def area(self):\n",
    "        raise NotImplementedError(\"Subclasses must implement this method\")\n",
    "\n",
    "class Circle(Shape):\n",
    "    def __init__(self, radius):\n",
    "        self.radius = radius\n",
    "\n",
    "    def area(self):\n",
    "        return math.pi * (self.radius ** 2)\n",
    "\n",
    "class Rectangle(Shape):\n",
    "    def __init__(self, width, height):\n",
    "        self.width = width\n",
    "        self.height = height\n",
    "\n",
    "    def area(self):\n",
    "        return self.width * self.height\n",
    "\n",
    "def main():\n",
    "    circle = Circle(radius=5)\n",
    "    rectangle = Rectangle(width=4, height=6)\n",
    "\n",
    "    print(f\"Circle area: {circle.area():.2f}\")  \n",
    "    print(f\"Rectangle area: {rectangle.area()}\")  \n",
    "\n"
   ]
  },
  {
   "cell_type": "markdown",
   "metadata": {},
   "source": [
    "12. Explain the use of abstract base classes (ABCs) in Python and how they relate to inheritance. Provide an example using the `abc` module.\n"
   ]
  },
  {
   "cell_type": "code",
   "execution_count": 9,
   "metadata": {},
   "outputs": [],
   "source": [
    "'''Abstract Base Classes (ABCs) in Python provide a way to define a common interface for a \n",
    "set of related classes. \n",
    "They ensure that derived classes implement specific methods or properties, enforcing a contract \n",
    "for subclasses. \n",
    "This is particularly useful for creating a consistent interface and preventing the instantiation \n",
    "of classes that do not fully implement the required methods.\n",
    "\n",
    "'''\n",
    "\n",
    "from abc import ABC, abstractmethod\n",
    "import math\n",
    "\n",
    "class Shape(ABC):\n",
    "    \n",
    "    @abstractmethod\n",
    "    def area(self):\n",
    "        \"\"\"Calculate the area of the shape\"\"\"\n",
    "        pass\n",
    "    \n",
    "    @abstractmethod\n",
    "    def perimeter(self):\n",
    "        \"\"\"Calculate the perimeter of the shape\"\"\"\n",
    "        pass\n",
    "\n",
    "class Circle(Shape):\n",
    "    \n",
    "    def __init__(self, radius):\n",
    "        self.radius = radius\n",
    "\n",
    "    def area(self):\n",
    "        return math.pi * (self.radius ** 2)\n",
    "\n",
    "    def perimeter(self):\n",
    "        return 2 * math.pi * self.radius\n",
    "\n",
    "class Rectangle(Shape):\n",
    "    \n",
    "    def __init__(self, width, height):\n",
    "        self.width = width\n",
    "        self.height = height\n",
    "\n",
    "    def area(self):\n",
    "        return self.width * self.height\n",
    "\n",
    "    def perimeter(self):\n",
    "        return 2 * (self.width + self.height)\n",
    "\n",
    "def main():\n",
    "    circle = Circle(radius=5)\n",
    "    rectangle = Rectangle(width=4, height=6)\n",
    "\n",
    "    print(f\"Circle area: {circle.area():.2f}\")         \n",
    "    print(f\"Circle perimeter: {circle.perimeter():.2f}\")  \n",
    "    print(f\"Rectangle area: {rectangle.area()}\")       \n",
    "    print(f\"Rectangle perimeter: {rectangle.perimeter()}\")  \n",
    "\n"
   ]
  },
  {
   "cell_type": "markdown",
   "metadata": {},
   "source": [
    "13. How can you prevent a child class from modifying certain attributes or methods inherited from a parent class in Python?\n"
   ]
  },
  {
   "cell_type": "code",
   "execution_count": null,
   "metadata": {},
   "outputs": [],
   "source": [
    "'''In Python, while you can't enforce strict access control like in some other languages, \n",
    "you can use several strategies to prevent child classes from modifying certain attributes or \n",
    "methods inherited from a parent class. \n",
    "\n",
    "One common approach is to use name mangling by prefixing attributes with double underscores (`__`), \n",
    "making them harder to access directly from outside the class, though not truly private. \n",
    "\n",
    "Additionally, you can use property decorators to define getter and setter methods, controlling how \n",
    "attributes are accessed and modified, and can make attributes read-only.\n",
    "\n",
    "Abstract Base Classes (ABCs) enforce a contract for derived classes by requiring them to \n",
    "implement specific methods but don't prevent modifications directly. \n",
    "\n",
    "Designing immutable objects, where attributes are set once and never changed, is another method to \n",
    "ensure certain data remains constant. \n",
    "\n",
    "Lastly, documenting methods and attributes that should not be overridden or modified establishes \n",
    "conventions that guide proper usage, although it relies on adherence rather than technical \n",
    "enforcement.'''"
   ]
  },
  {
   "cell_type": "markdown",
   "metadata": {},
   "source": [
    "14. Create a Python class called `Employee` with attributes `name` and `salary`. Then, create a child class `Manager` that inherits from `Employee` and adds an attribute `department`. Provide an example.\n"
   ]
  },
  {
   "cell_type": "code",
   "execution_count": null,
   "metadata": {},
   "outputs": [],
   "source": []
  },
  {
   "cell_type": "markdown",
   "metadata": {},
   "source": [
    "15. Discuss the concept of method overloading in Python inheritance. How does it differ from method overriding?\n"
   ]
  },
  {
   "cell_type": "code",
   "execution_count": null,
   "metadata": {},
   "outputs": [],
   "source": []
  },
  {
   "cell_type": "markdown",
   "metadata": {},
   "source": [
    "16. Explain the purpose of the `__init__()` method in Python inheritance and how it is utilized in child classes.\n"
   ]
  },
  {
   "cell_type": "code",
   "execution_count": null,
   "metadata": {},
   "outputs": [],
   "source": []
  },
  {
   "cell_type": "markdown",
   "metadata": {},
   "source": [
    "17. Create a Python class called `Bird` with a method `fly()`. Then, create child classes `Eagle` and `Sparrow` that inherit from `Bird` and implement the `fly()` method differently. Provide an example of using these classes.\n"
   ]
  },
  {
   "cell_type": "code",
   "execution_count": 10,
   "metadata": {},
   "outputs": [
    {
     "name": "stdout",
     "output_type": "stream",
     "text": [
      "Eagle soars high in the sky.\n",
      "Sparrow flutters quickly from branch to branch.\n"
     ]
    }
   ],
   "source": [
    "class Bird:\n",
    "    def fly(self):\n",
    "        print(\"Subclasses must implement this method\")\n",
    "\n",
    "class Eagle(Bird):\n",
    "    def fly(self):\n",
    "        return \"Eagle soars high in the sky.\"\n",
    "\n",
    "class Sparrow(Bird):\n",
    "    def fly(self):\n",
    "        return \"Sparrow flutters quickly from branch to branch.\"\n",
    "\n",
    "def main():\n",
    "    eagle = Eagle()\n",
    "    sparrow = Sparrow()\n",
    "\n",
    "    \n",
    "    print(eagle.fly())   \n",
    "    print(sparrow.fly()) \n",
    "\n",
    "main()"
   ]
  },
  {
   "cell_type": "markdown",
   "metadata": {},
   "source": [
    "18. What is the \"diamond problem\" in multiple inheritance, and how does Python address it?\n"
   ]
  },
  {
   "cell_type": "code",
   "execution_count": 11,
   "metadata": {},
   "outputs": [
    {
     "data": {
      "text/plain": [
       "'The \"diamond problem\" in multiple inheritance arises when a class inherits from two or more \\nclasses that have a common ancestor, leading to ambiguity about which path of inheritance should \\nbe used to resolve method or attribute access. \\nFor example, consider a scenario where class `D` inherits from both class `B` and class `C`, and \\nboth `B` and `C` inherit from a common base class `A`. If `D` needs to call a method defined in `A`, \\nthe diamond problem occurs if there\\'s ambiguity about whether the method should be inherited from \\n`B` or `C`, or if both have modified it.\\n\\nPython addresses the diamond problem through a method called the C3 Linearization algorithm, or C3 \\nsuperclass linearization. \\nThis algorithm provides a well-defined order in which classes are searched when looking up methods \\nor attributes, ensuring that each class is visited only once and in a consistent order. \\n\\nPython\\'s approach ensures that the method resolution order (MRO) is both predictable and \\nunambiguous, preventing conflicts and inconsistencies in method inheritance. \\n\\nBy using this linearization, Python provides a clear and systematic way to handle multiple \\ninheritance scenarios, allowing developers to define complex class hierarchies without running \\ninto the issues typically associated with the diamond problem.'"
      ]
     },
     "execution_count": 11,
     "metadata": {},
     "output_type": "execute_result"
    }
   ],
   "source": [
    "'''The \"diamond problem\" in multiple inheritance arises when a class inherits from two or more \n",
    "classes that have a common ancestor, leading to ambiguity about which path of inheritance should \n",
    "be used to resolve method or attribute access. \n",
    "For example, consider a scenario where class `D` inherits from both class `B` and class `C`, and \n",
    "both `B` and `C` inherit from a common base class `A`. If `D` needs to call a method defined in `A`, \n",
    "the diamond problem occurs if there's ambiguity about whether the method should be inherited from \n",
    "`B` or `C`, or if both have modified it.\n",
    "\n",
    "Python addresses the diamond problem through a method called the C3 Linearization algorithm, or C3 \n",
    "superclass linearization. \n",
    "This algorithm provides a well-defined order in which classes are searched when looking up methods \n",
    "or attributes, ensuring that each class is visited only once and in a consistent order. \n",
    "\n",
    "Python's approach ensures that the method resolution order (MRO) is both predictable and \n",
    "unambiguous, preventing conflicts and inconsistencies in method inheritance. \n",
    "\n",
    "By using this linearization, Python provides a clear and systematic way to handle multiple \n",
    "inheritance scenarios, allowing developers to define complex class hierarchies without running \n",
    "into the issues typically associated with the diamond problem.'''"
   ]
  },
  {
   "cell_type": "markdown",
   "metadata": {},
   "source": [
    "19. Discuss the concept of \"is-a\" and \"has-a\" relationships in inheritance, and provide examples of each.\n"
   ]
  },
  {
   "cell_type": "code",
   "execution_count": null,
   "metadata": {},
   "outputs": [],
   "source": [
    "'''\n",
    "In object-oriented programming, the concepts of \"is-a\" and \"has-a\" relationships describe \n",
    "different types of associations between classes and help structure class hierarchies in a \n",
    "meaningful way.\n",
    "\n",
    "Is-A\" Relationship\n",
    "\n",
    "The \"is-a\" relationship represents inheritance and is used to denote that a class is a specialized \n",
    "version of another class. \n",
    "This relationship is established through subclassing, where a child class inherits from a \n",
    "parent class. \n",
    "The child class is a more specific type of the parent class and can inherit or override     \n",
    "methods and attributes from the parent.\n",
    "\n",
    "''' \n",
    "class Animal:\n",
    "    def __init__(self, name):\n",
    "        self.name = name\n",
    "\n",
    "    def speak(self):\n",
    "        return \"Animal sound\"\n",
    "\n",
    "class Dog(Animal):\n",
    "    def __init__(self, name, breed):\n",
    "        super().__init__(name)\n",
    "        self.breed = breed\n",
    "\n",
    "    def speak(self):\n",
    "        return \"Bark\"\n",
    "\n",
    "\n",
    "dog = Dog(name=\"Buddy\", breed=\"Golden Retriever\")\n",
    "print(dog.speak())  \n",
    "print(isinstance(dog, Animal))  \n",
    "'''\n",
    "\n",
    "\n",
    "Has-A\" Relationship\n",
    "\n",
    "The \"has-a\" relationship represents composition or aggregation and is used to denote that a \n",
    "class contains or is composed of one or more instances of other classes. \n",
    "\n",
    "This relationship is established by including objects of other classes as attributes within a class, \n",
    "rather than inheriting from them.\n",
    "\n",
    "\n",
    "\n",
    "'''\n",
    "\n",
    "class Engine:\n",
    "    def __init__(self, horsepower):\n",
    "        self.horsepower = horsepower\n",
    "\n",
    "    def start(self):\n",
    "        return \"Engine starts\"\n",
    "\n",
    "class Car:\n",
    "    def __init__(self, make, model, engine):\n",
    "        self.make = make\n",
    "        self.model = model\n",
    "        self.engine = engine\n",
    "\n",
    "    def start(self):\n",
    "        return f\"Car starts with {self.engine.start()}\"\n",
    "\n",
    "engine = Engine(horsepower=150)\n",
    "car = Car(make=\"Toyota\", model=\"Corolla\", engine=engine)\n",
    "print(car.start())  \n",
    "print(isinstance(car.engine, Engine))  \n"
   ]
  },
  {
   "cell_type": "markdown",
   "metadata": {},
   "source": [
    "20. Create a Python class hierarchy for a university system. Start with a base class `Person` and create child classes `Student` and `Professor`, each with their own attributes and methods. Provide an example of using these classes in a university context.\n"
   ]
  },
  {
   "cell_type": "code",
   "execution_count": 12,
   "metadata": {},
   "outputs": [
    {
     "name": "stdout",
     "output_type": "stream",
     "text": [
      "Name: rohan, Age: 21, Student ID: S123456, Major: Computer Science\n",
      "rohan is studying Computer Science.\n",
      "Name: sohan, Age: 45, Employee ID: P987654, Department: Mathematics\n",
      "Professor sohan is teaching in the Mathematics department.\n"
     ]
    }
   ],
   "source": [
    "\n",
    "class Person:\n",
    "    def __init__(self, name, age):\n",
    "        self.name = name\n",
    "        self.age = age\n",
    "\n",
    "    def get_info(self):\n",
    "        return f\"Name: {self.name}, Age: {self.age}\"\n",
    "\n",
    "class Student(Person):\n",
    "    def __init__(self, name, age, student_id, major):\n",
    "        super().__init__(name, age)\n",
    "        self.student_id = student_id\n",
    "        self.major = major\n",
    "\n",
    "    def get_info(self):\n",
    "        base_info = super().get_info()\n",
    "        return f\"{base_info}, Student ID: {self.student_id}, Major: {self.major}\"\n",
    "\n",
    "    def study(self):\n",
    "        return f\"{self.name} is studying {self.major}.\"\n",
    "\n",
    "class Professor(Person):\n",
    "    def __init__(self, name, age, employee_id, department):\n",
    "        super().__init__(name, age)\n",
    "        self.employee_id = employee_id\n",
    "        self.department = department\n",
    "\n",
    "    def get_info(self):\n",
    "        base_info = super().get_info()\n",
    "        return f\"{base_info}, Employee ID: {self.employee_id}, Department: {self.department}\"\n",
    "\n",
    "    def teach(self):\n",
    "        return f\"Professor {self.name} is teaching in the {self.department} department.\"\n",
    "\n",
    "\n",
    "def main():\n",
    "    \n",
    "    student = Student(name=\"rohan\", age=21, student_id=\"S123456\", major=\"Computer Science\")\n",
    "    professor = Professor(name=\"sohan\", age=45, employee_id=\"P987654\", department=\"Mathematics\")\n",
    "\n",
    "   \n",
    "    print(student.get_info())  \n",
    "    print(student.study())     \n",
    "\n",
    "    print(professor.get_info()) \n",
    "    print(professor.teach())     \n",
    "\n",
    "main()\n"
   ]
  },
  {
   "cell_type": "markdown",
   "metadata": {},
   "source": [
    "Here are the additional questions on **Encapsulation**, **Polymorphism**, **Abstraction**, and **Composition** from the file:\n",
    "\n",
    "---\n",
    "\n",
    "### **Encapsulation:**\n",
    "1. Explain the concept of encapsulation in Python. What is its role in object-oriented programming?\n"
   ]
  },
  {
   "cell_type": "code",
   "execution_count": null,
   "metadata": {},
   "outputs": [],
   "source": [
    "'''Encapsulation is a core concept in object-oriented programming (OOP) that refers to the \n",
    "bundling of data (attributes) and methods (functions) that operate on that data into a \n",
    "single unit, typically a class. \n",
    "\n",
    "It also involves restricting access to some of an object's components to prevent accidental \n",
    "or unauthorized modification. \n",
    "\n",
    "This concept is crucial for creating well-structured and maintainable code.\n",
    "\n",
    "Data Hiding:\n",
    "\n",
    "Encapsulation allows the internal state of an object to be hidden from the outside world. \n",
    "This is achieved by marking certain attributes and methods as private or protected, thereby \n",
    "restricting direct access and modification. \n",
    "\n",
    "This prevents external code from making unwanted changes to the object's state, which helps \n",
    "in maintaining the integrity of the data.\n",
    "'''"
   ]
  },
  {
   "cell_type": "markdown",
   "metadata": {},
   "source": [
    "2. Describe the key principles of encapsulation, including access control and data hiding.\n"
   ]
  },
  {
   "cell_type": "code",
   "execution_count": null,
   "metadata": {},
   "outputs": [],
   "source": [
    "'''Encapsulation is a fundamental concept in object-oriented programming (OOP) that focuses on \n",
    "bundling data and methods into a single unit, typically a class, and controlling access to that \n",
    "data. \n",
    "At its core, encapsulation involves two key principles: access control and data hiding. \n",
    "\n",
    "Access control regulates which parts of a class are accessible from outside its scope. \n",
    "In Python, this is managed using public, protected, and private access specifiers. \n",
    "\n",
    "Public attributes and methods are accessible from any part of the program, while protected \n",
    "attributes (indicated by a single underscore) are intended for use within the class and its \n",
    "subclasses, and private attributes (indicated by a double underscore) are strictly confined \n",
    "to the class itself. \n",
    "\n",
    "Data hiding complements this by restricting direct access to an object's internal state, \n",
    "ensuring that its data can only be modified or accessed through well-defined methods. \n",
    "\n",
    "This approach not only protects the integrity of the object's state but also provides a controlled \n",
    "interface for interacting with the object's data, allowing for validation and encapsulation of \n",
    "complex logic. \n",
    "\n",
    "By separating the internal implementation from the external interface, encapsulation enhances \n",
    "code maintainability and flexibility, as changes to the internal workings of a class do not \n",
    "affect the code that uses it. \n",
    "\n",
    "This results in a more robust and manageable codebase, where the internal details are hidden \n",
    "from the outside world, and access is carefully controlled through public methods.'''"
   ]
  },
  {
   "cell_type": "markdown",
   "metadata": {},
   "source": [
    "3. How can you achieve encapsulation in Python classes? Provide an example.\n"
   ]
  },
  {
   "cell_type": "code",
   "execution_count": null,
   "metadata": {},
   "outputs": [],
   "source": [
    "'''\n",
    "In Python, encapsulation is achieved by using access control mechanisms to hide the internal \n",
    "state and implementation details of a class from the outside world. \n",
    "This is primarily done using public, protected, and private attributes and methods. \n",
    "\n",
    "Heres how each of these works:\n",
    "\n",
    "Public Attributes and Methods: These are accessible from anywhere in the program. They form the public \n",
    "interface of the class and are not restricted.\n",
    "\n",
    "Protected Attributes and Methods: These are intended for use within the class and its subclasses. \n",
    "In Python, they are indicated by a single underscore prefix (e.g., _protected_attr). \n",
    "While this is more of a convention and does not enforce access control, it signals that these \n",
    "members are meant to be accessed internally.\n",
    "\n",
    "Private Attributes and Methods: These are intended to be used only within the class itself. \n",
    "They are indicated by a double underscore prefix (e.g., __private_attr). \n",
    "This name mangling feature makes these members harder to access from outside the class.'''"
   ]
  },
  {
   "cell_type": "markdown",
   "metadata": {},
   "source": [
    "4. Discuss the difference between public, private, and protected access modifiers in Python.\n"
   ]
  },
  {
   "cell_type": "code",
   "execution_count": null,
   "metadata": {},
   "outputs": [],
   "source": [
    "'''In Python, access control is managed through the use of public, protected, and private access \n",
    "modifiers, which determine the visibility and accessibility of class attributes and methods. \n",
    "\n",
    "Public access\n",
    "\n",
    "Public access is the default access level in Python. \n",
    "Attributes and methods that are public \n",
    "are accessible from anywhere in the code, including outside the class. \n",
    "This means any object or function can read or modify public attributes directly. \n",
    "Public members form the interface through which external code interacts with the class, providing \n",
    "necessary functionalities and access points without restrictions.\n",
    "\n",
    "\n",
    "\n",
    "Protected\n",
    "\n",
    "Protected access is indicated by a single underscore prefix (e.g., `_protected_attr`). \n",
    "Although Python does not enforce strict access control, this convention serves as a signal to \n",
    "developers that the attribute or method is intended for internal use within the class and \n",
    "its subclasses. \n",
    "\n",
    "Protected members are meant to be accessed and modified only within the class hierarchy and not \n",
    "directly from outside. \n",
    "\n",
    "This helps maintain a degree of encapsulation while allowing derived classes to access and extend \n",
    "the functionality of base classes. \n",
    "However, it's important to note that this is merely a convention and does not prevent external \n",
    "access programmatically.\n",
    "\n",
    "\n",
    "Private \n",
    "\n",
    "Private access is indicated by a double underscore prefix (e.g., `__private_attr`). \n",
    "This access level provides stronger encapsulation by triggering name mangling, \n",
    "where Python alters the name of the attribute to include the class name \n",
    "(e.g., `_ClassName__private_attr`). \n",
    "\n",
    "This makes it more difficult to access private members from outside the class, thus enforcing a \n",
    "higher degree of data hiding. \n",
    "\n",
    "Private attributes and methods are designed to be used only within the class they are defined in. \n",
    "While this doesn't make them completely inaccessible (since they can still be accessed using name \n",
    "mangling), it is a robust mechanism to prevent unintended interference and maintain the integrity \n",
    "of the class's internal state.'''"
   ]
  },
  {
   "cell_type": "markdown",
   "metadata": {},
   "source": [
    "5. Create a Python class called `Person` with a private attribute `__name`. Provide methods to get and set the name attribute.\n"
   ]
  },
  {
   "cell_type": "code",
   "execution_count": null,
   "metadata": {},
   "outputs": [],
   "source": [
    "class Person:\n",
    "    def __init__(self, name):\n",
    "        self.__name = name  \n",
    "\n",
    "    def get_name(self):\n",
    "        return self.__name\n",
    "\n",
    "    def set_name(self, new_name):\n",
    "        if isinstance(new_name, str) and new_name:\n",
    "            self.__name = new_name\n",
    "        else:\n",
    "            print(\"Invalid name. Name must be a non-empty string.\")\n",
    "def main():\n",
    "    person = Person(\"Alice\")\n",
    "    \n",
    "    print(person.get_name())  \n",
    "    \n",
    "    person.set_name(\"Bob\")\n",
    "    print(person.get_name())  \n",
    "    \n",
    "    person.set_name(\"\")  \n",
    "\n",
    "    try:\n",
    "        print(person.__name)  \n",
    "    except AttributeError:\n",
    "        print(\"Direct access to private attribute is not allowed.\")\n",
    "\n",
    "main()\n"
   ]
  },
  {
   "cell_type": "markdown",
   "metadata": {},
   "source": [
    "6. Explain the purpose of getter and setter methods in encapsulation. Provide examples.\n"
   ]
  },
  {
   "cell_type": "code",
   "execution_count": null,
   "metadata": {},
   "outputs": [],
   "source": [
    "'''In encapsulation, getter and setter methods play a crucial role in controlling access to an \n",
    "object's internal state while maintaining the integrity of the data. \n",
    "\n",
    "Getter methods- are used to retrieve the value of private or protected attributes from outside the \n",
    "class. \n",
    "They provide a controlled way to access these attributes without exposing them directly, \n",
    "thereby preserving the principle of data hiding. \n",
    "\n",
    "Setter methods - on the other hand, are used to modify the value of private or protected attributes. \n",
    "They often include validation logic to ensure that any changes adhere to specific rules or \n",
    "constraints, thus protecting the object from invalid or inconsistent states.\n",
    "\n",
    "For example, consider a class `Person` with a private attribute `__age`. To access and modify this \n",
    "attribute safely, you would use getter  and setter methods. \n",
    "The getter method `get_age()` returns the value of `__age`, allowing other parts of the program \n",
    "to read the age without directly accessing the attribute. \n",
    "\n",
    "The setter method `set_age(new_age)` checks if the new value is a positive integer before updating \n",
    "`__age`, ensuring that the attribute only holds valid data. \n",
    "\n",
    "This approach not only encapsulates the data but also enforces rules that prevent the internal \n",
    "state from being set to undesirable values. \n",
    "\n",
    "By using getter and setter methods, you encapsulate the logic for accessing and modifying the \n",
    "data, which enhances code maintainability and robustness.'''"
   ]
  },
  {
   "cell_type": "markdown",
   "metadata": {},
   "source": [
    "7. What is name mangling in Python, and how does it affect encapsulation?\n"
   ]
  },
  {
   "cell_type": "code",
   "execution_count": null,
   "metadata": {},
   "outputs": [],
   "source": [
    "'''Name mangling in Python is a mechanism that affects encapsulation by altering the names of \n",
    "private attributes and methods to make them less accessible from outside the class. \n",
    "This mechanism is implemented to prevent accidental access to attributes and methods that are \n",
    "intended to be private, thus supporting encapsulation and data hiding.\n",
    "\n",
    "When a class attribute or method is prefixed with double underscores (e.g., `__private_attr`),\n",
    "Python performs name mangling by internally transforming the attribute's name to include the \n",
    "class name. \n",
    "This transformation typically changes the attribute name to something like `_ClassName__private_attr`.\n",
    "The primary purpose of name mangling is to avoid naming conflicts in subclasses and to discourage \n",
    "direct access from outside the class, though it does not make the attribute entirely inaccessible.\n",
    "\n",
    "For instance, consider a class `Person` with a private attribute `__name`. \n",
    "Python will mangle this attribute’s name to `_Person__name`, which makes it less likely that \n",
    "external code will accidentally access it. \n",
    "\n",
    "While it is still possible to access the mangled name (e.g., using `_Person__name`), doing so is \n",
    "generally discouraged as it undermines the principle of encapsulation. \n",
    "\n",
    "Name mangling thus helps in encapsulating and protecting internal data by making direct access \n",
    "less straightforward and less likely, while still providing a mechanism for potential access if \n",
    "absolutely necessary. \n",
    "\n",
    "This enhances the integrity and security of the class's internal state.'''"
   ]
  },
  {
   "cell_type": "markdown",
   "metadata": {},
   "source": [
    "8. Create a Python class called `BankAccount` with private attributes for the account balance (`__balance`) and account number (`__account_number`). Provide methods for depositing and withdrawing money.\n"
   ]
  },
  {
   "cell_type": "code",
   "execution_count": 1,
   "metadata": {},
   "outputs": [
    {
     "name": "stdout",
     "output_type": "stream",
     "text": [
      "Deposited 200. New balance is 700.\n",
      "Withdrew 100. Remaining balance is 600.\n",
      "Account Balance: 600\n",
      "Account Number: 12345678\n"
     ]
    }
   ],
   "source": [
    "class BankAccount:\n",
    "    def __init__(self, account_number, balance=0):\n",
    "        self.__account_number = account_number  \n",
    "        self.__balance = balance  \n",
    "    def deposit(self, amount):\n",
    "        if amount > 0:\n",
    "            self.__balance += amount\n",
    "            print(f\"Deposited {amount}. New balance is {self.__balance}.\")\n",
    "        else:\n",
    "            print(\"Deposit amount must be positive.\")\n",
    "\n",
    "    def withdraw(self, amount):\n",
    "        if 0 < amount <= self.__balance:\n",
    "            self.__balance -= amount\n",
    "            print(f\"Withdrew {amount}. Remaining balance is {self.__balance}.\")\n",
    "        else:\n",
    "            print(\"Insufficient balance or invalid amount.\")\n",
    "\n",
    "    def check_balance(self):\n",
    "        return self.__balance\n",
    "\n",
    "    def get_account_number(self):\n",
    "        return self.__account_number\n",
    "\n",
    "account = BankAccount(\"12345678\", 500)\n",
    "account.deposit(200)  \n",
    "account.withdraw(100)  \n",
    "print(f\"Account Balance: {account.check_balance()}\")  \n",
    "print(f\"Account Number: {account.get_account_number()}\")  \n"
   ]
  },
  {
   "cell_type": "markdown",
   "metadata": {},
   "source": [
    "9. Discuss the advantages of encapsulation in terms of code maintainability and security.\n"
   ]
  },
  {
   "cell_type": "code",
   "execution_count": null,
   "metadata": {},
   "outputs": [],
   "source": [
    "'''Encapsulation improves code maintainability and security by keeping an object's internal \n",
    "data private and only allowing access through specific methods. \n",
    "\n",
    "This ensures that important data can't be accidentally or maliciously altered, as it can \n",
    "only be changed in controlled ways. \n",
    "\n",
    "By hiding the details of how a class works, encapsulation makes it easier to update or fix \n",
    "parts of a program without affecting other areas. \n",
    "\n",
    "It also helps in keeping the code modular, making it reusable and easier to debug. \n",
    "\n",
    "Overall, encapsulation ensures that the system is secure, flexible, and easier to manage.'''"
   ]
  },
  {
   "cell_type": "markdown",
   "metadata": {},
   "source": [
    "10. How can you access private attributes in Python? Provide an example demonstrating the use of name mangling.\n"
   ]
  },
  {
   "cell_type": "code",
   "execution_count": 2,
   "metadata": {},
   "outputs": [
    {
     "name": "stdout",
     "output_type": "stream",
     "text": [
      "500\n",
      "12345678\n"
     ]
    }
   ],
   "source": [
    "'''\n",
    "In Python, private attributes are defined by prefixing the attribute name with double \n",
    "underscores (__). \n",
    "\n",
    "While these attributes cannot be accessed directly from outside the class, they can still \n",
    "be accessed using a technique called name mangling. \n",
    "\n",
    "Python changes the name of private attributes internally by adding the class name as a prefix. \n",
    "\n",
    "This allows the attribute to be accessed if you know the mangled name, though it's not \n",
    "recommended for normal use as it bypasses encapsulation'''\n",
    "\n",
    "\n",
    "class BankAccount:\n",
    "    def __init__(self, account_number, balance=0):\n",
    "        self.__account_number = account_number  \n",
    "        self.__balance = balance  \n",
    "    def display_balance(self):\n",
    "        return self.__balance\n",
    "\n",
    "account = BankAccount(\"12345678\", 500)\n",
    "\n",
    "print(account._BankAccount__balance)  \n",
    "print(account._BankAccount__account_number)  \n"
   ]
  },
  {
   "cell_type": "markdown",
   "metadata": {},
   "source": [
    "11. Create a Python class hierarchy for a school system, including classes for students, teachers, and courses, and implement encapsulation principles to protect sensitive information.\n"
   ]
  },
  {
   "cell_type": "code",
   "execution_count": 3,
   "metadata": {},
   "outputs": [
    {
     "name": "stdout",
     "output_type": "stream",
     "text": [
      "Teacher: rOhan, Salary: 50000\n",
      "Course: Math, Teacher: rOhan\n",
      "Enrolled students: ['sohan', 's2']\n",
      "sohan's grades: {'Math': 95}\n"
     ]
    }
   ],
   "source": [
    "\n",
    "class Person:\n",
    "    def __init__(self, name, age):\n",
    "        self.name = name\n",
    "        self.age = age\n",
    "\n",
    "class Student(Person):\n",
    "    def __init__(self, name, age, student_id):\n",
    "        super().__init__(name, age)\n",
    "        self.__student_id = student_id  \n",
    "        self.__grades = {}  \n",
    "\n",
    "    \n",
    "    def add_grade(self, course, grade):\n",
    "        self.__grades[course] = grade\n",
    "\n",
    "    \n",
    "    def get_grades(self):\n",
    "        return self.__grades\n",
    "\n",
    "    def get_student_id(self):\n",
    "        return self.__student_id\n",
    "\n",
    "\n",
    "class Teacher(Person):\n",
    "    def __init__(self, name, age, employee_id):\n",
    "        super().__init__(name, age)\n",
    "        self.__employee_id = employee_id  \n",
    "        self.__salary = 0  \n",
    "\n",
    "    \n",
    "    def set_salary(self, salary):\n",
    "        if salary > 0:\n",
    "            self.__salary = salary\n",
    "        else:\n",
    "            print(\"Invalid salary amount.\")\n",
    "\n",
    "    \n",
    "    def get_salary(self):\n",
    "        return self.__salary\n",
    "\n",
    "    \n",
    "    def get_employee_id(self):\n",
    "        return self.__employee_id\n",
    "\n",
    "\n",
    "class Course:\n",
    "    def __init__(self, course_name, teacher):\n",
    "        self.course_name = course_name\n",
    "        self.teacher = teacher  \n",
    "        self.__students = [] \n",
    "\n",
    "    def enroll_student(self, student):\n",
    "        if student not in self.__students:\n",
    "            self.__students.append(student)\n",
    "\n",
    "    def get_students(self):\n",
    "        return [student.name for student in self.__students]\n",
    "\n",
    "teacher = Teacher(\"rOhan\", 40, \"T123\")\n",
    "teacher.set_salary(50000)\n",
    "\n",
    "student1 = Student(\"sohan\", 20, \"S001\")\n",
    "student2 = Student(\"s2\", 22, \"S002\")\n",
    "\n",
    "student1.add_grade(\"Math\", 95)\n",
    "student2.add_grade(\"Math\", 88)\n",
    "\n",
    "course = Course(\"Math\", teacher)\n",
    "course.enroll_student(student1)\n",
    "course.enroll_student(student2)\n",
    "\n",
    "print(f\"Teacher: {teacher.name}, Salary: {teacher.get_salary()}\")\n",
    "print(f\"Course: {course.course_name}, Teacher: {course.teacher.name}\")\n",
    "print(f\"Enrolled students: {course.get_students()}\")\n",
    "print(f\"{student1.name}'s grades: {student1.get_grades()}\")\n"
   ]
  },
  {
   "cell_type": "markdown",
   "metadata": {},
   "source": [
    "12. Explain the concept of property decorators in Python and how they relate to encapsulation.\n"
   ]
  },
  {
   "cell_type": "code",
   "execution_count": null,
   "metadata": {},
   "outputs": [],
   "source": [
    "'''In Python, property decorators (`@property`) provide a way to control access to attributes \n",
    "in a class while keeping the syntax simple and intuitive. \n",
    "\n",
    "They allow class attributes to be accessed like public attributes while still applying the \n",
    "principles of encapsulation by using getter, setter, and deleter methods. \n",
    "\n",
    "When using `@property`, you can define a method to retrieve an attribute's value (getter), \n",
    "modify it (setter), or delete it (deleter) while maintaining the ability to hide the actual \n",
    "implementation. \n",
    "\n",
    "This ensures that attributes are protected from direct access but are still easily accessible \n",
    "and modifiable through controlled methods. \n",
    "\n",
    "Property decorators help enforce data integrity by adding logic that controls how attributes \n",
    "are set or retrieved, promoting clean and secure code, and ensuring that internal data is \n",
    "handled correctly without exposing it directly.'''"
   ]
  },
  {
   "cell_type": "markdown",
   "metadata": {},
   "source": [
    "13. What is data hiding, and why is it important in encapsulation? Provide examples.\n"
   ]
  },
  {
   "cell_type": "code",
   "execution_count": null,
   "metadata": {},
   "outputs": [],
   "source": [
    "'''Data Hiding in Encapsulation:\n",
    "Data hiding is a key concept in object-oriented programming, where sensitive or critical data \n",
    "within a class is made inaccessible directly from outside the class. \n",
    "\n",
    "It involves using access control mechanisms to limit access to certain attributes and methods. \n",
    "\n",
    "In Python, data hiding is typically achieved by marking attributes as private using a double \n",
    "underscore (__), which triggers name mangling to prevent external access. \n",
    "\n",
    "The goal is to protect internal object states, ensuring that they cannot be modified directly, \n",
    "thus maintaining the integrity of the data.'''"
   ]
  },
  {
   "cell_type": "markdown",
   "metadata": {},
   "source": [
    "14. Create a Python class called `Employee` with private attributes for salary (`__salary`) and employee ID (`__employee_id`). Provide a method to calculate yearly bonuses.\n"
   ]
  },
  {
   "cell_type": "code",
   "execution_count": null,
   "metadata": {},
   "outputs": [],
   "source": []
  },
  {
   "cell_type": "markdown",
   "metadata": {},
   "source": [
    "15. Discuss the use of accessors and mutators in encapsulation. How do they help maintain control over attribute access?\n"
   ]
  },
  {
   "cell_type": "code",
   "execution_count": null,
   "metadata": {},
   "outputs": [],
   "source": [
    "'''Accessors and mutators, often referred to as getters and setters, are essential tools in \n",
    "encapsulation, providing controlled access to an object's private attributes. \n",
    "\n",
    "Accessors (getters) retrieve the value of private variables, allowing external code to view the \n",
    "data without directly accessing it. \n",
    "\n",
    "Mutators (setters), on the other hand, enable modification of these private attributes while \n",
    "enforcing rules or validation before any changes are made. \n",
    "\n",
    "This ensures that object state modifications adhere to specific conditions, preventing issues \n",
    "like invalid or inconsistent data. \n",
    "For instance, a mutator could prevent setting an age attribute to a negative number, \n",
    "ensuring the object's integrity.\n",
    "\n",
    "By using accessors and mutators, developers can also implement read-only attributes, allowing \n",
    "certain data to be accessed but not modified. \n",
    "\n",
    "This adds an extra layer of control over the object, ensuring that sensitive data remains secure. \n",
    "\n",
    "Additionally, accessors and mutators allow internal implementation details to remain hidden, \n",
    "which means that changes to how data is stored or managed inside the class won't affect how \n",
    "external code interacts with it. \n",
    "\n",
    "This promotes flexibility and easier maintenance, as the internal logic can evolve without breaking \n",
    "the external interface.'''"
   ]
  },
  {
   "cell_type": "markdown",
   "metadata": {},
   "source": [
    "16. What are the potential drawbacks or disadvantages of using encapsulation in Python?\n"
   ]
  },
  {
   "cell_type": "code",
   "execution_count": null,
   "metadata": {},
   "outputs": [],
   "source": [
    "'''While encapsulation offers numerous benefits, such as increased data security, better \n",
    "control over attribute access, and code modularity, it does come with some potential drawbacks \n",
    "in Python. \n",
    "\n",
    "One disadvantage is that encapsulation can lead to more complex code, as it requires additional \n",
    "methods (like getters and setters) to access private or protected attributes. \n",
    "\n",
    "This can make the code longer and harder to read, especially when simple operations are involved. \n",
    "\n",
    "Moreover, in Python, encapsulation is not strictly enforced; private attributes can still be accessed \n",
    "using name mangling (e.g., `_ClassName__attribute`), which makes it less secure compared to \n",
    "languages with stricter access control. \n",
    "\n",
    "This looser enforcement might lead developers to bypass the protective layer of encapsulation, \n",
    "reducing its effectiveness. \n",
    "\n",
    "Additionally, overuse of encapsulation might reduce performance, as every access or modification \n",
    "requires method calls, which can be inefficient for time-sensitive applications.'''"
   ]
  },
  {
   "cell_type": "markdown",
   "metadata": {},
   "source": [
    "17. Create a Python class for a library system that encapsulates book information, including titles, authors, and availability status.\n"
   ]
  },
  {
   "cell_type": "code",
   "execution_count": 4,
   "metadata": {},
   "outputs": [
    {
     "name": "stdout",
     "output_type": "stream",
     "text": [
      "'1984' by George Orwell - Available\n",
      "'1984' by George Orwell has been checked out.\n",
      "'1984' by George Orwell - Checked Out\n",
      "'1984' by George Orwell has been returned.\n",
      "'1984' by George Orwell - Available\n"
     ]
    }
   ],
   "source": [
    "class Book:\n",
    "    def __init__(self, title, author, available=True):\n",
    "        self.title = title\n",
    "        self.author = author\n",
    "        self.available = available\n",
    "\n",
    "    def check_out(self):\n",
    "        if self.available:\n",
    "            self.available = False\n",
    "            return f\"'{self.title}' by {self.author} has been checked out.\"\n",
    "        else:\n",
    "            return f\"'{self.title}' by {self.author} is currently unavailable.\"\n",
    "\n",
    "    def return_book(self):\n",
    "        if not self.available:\n",
    "            self.available = True\n",
    "            return f\"'{self.title}' by {self.author} has been returned.\"\n",
    "        else:\n",
    "            return f\"'{self.title}' by {self.author} was not checked out.\"\n",
    "\n",
    "    def __str__(self):\n",
    "        status = \"Available\" if self.available else \"Checked Out\"\n",
    "        return f\"'{self.title}' by {self.author} - {status}\"\n",
    "\n",
    "\n",
    "book1 = Book(\"1984\", \"George Orwell\")\n",
    "print(book1)  \n",
    "\n",
    "print(book1.check_out())  \n",
    "print(book1)  \n",
    "\n",
    "print(book1.return_book())  \n",
    "print(book1)  "
   ]
  },
  {
   "cell_type": "markdown",
   "metadata": {},
   "source": [
    "18. Explain how encapsulation enhances code reusability and modularity in Python programs.\n"
   ]
  },
  {
   "cell_type": "code",
   "execution_count": null,
   "metadata": {},
   "outputs": [],
   "source": [
    "'''Encapsulation enhances code reusability and modularity in Python programs by bundling \n",
    "related data and methods into a single unit, typically a class. \n",
    "\n",
    "This approach hides the internal implementation details and only exposes a controlled interface \n",
    "to the outside world. \n",
    "\n",
    "By doing so, encapsulation allows developers to create reusable and modular components. \n",
    "For instance, once a class is defined, it can be instantiated and used across different parts of a \n",
    "program without needing to understand or modify its internal workings. \n",
    "\n",
    "This separation of concerns simplifies maintenance and debugging, as changes to the internal \n",
    "logic of a class do not affect the code that uses the class, as long as the public interface \n",
    "remains consistent. \n",
    "\n",
    "Consequently, encapsulation promotes a clean, organized codebase where components can be developed, \n",
    "tested, and reused independently, leading to more efficient and scalable programming practices.'''"
   ]
  },
  {
   "cell_type": "markdown",
   "metadata": {},
   "source": [
    "19. Describe the concept of information hiding in encapsulation. Why is it essential in software development?\n"
   ]
  },
  {
   "cell_type": "code",
   "execution_count": null,
   "metadata": {},
   "outputs": [],
   "source": [
    "'''Information hiding, a key concept in encapsulation, involves concealing the internal details \n",
    "of an object from the outside world while exposing only the necessary and relevant aspects \n",
    "through a well-defined interface. \n",
    "\n",
    "This means that the internal state and implementation of an object are kept private, and \n",
    "only specific methods are provided for interaction. \n",
    "\n",
    "This approach is essential in software development because it reduces complexity and enhances \n",
    "maintainability. \n",
    "\n",
    "By hiding the internal workings, developers can change the implementation of a class without \n",
    "affecting other parts of the code that rely on its public interface. \n",
    "\n",
    "This separation ensures that modifications or enhancements to an object's internals do not \n",
    "inadvertently disrupt other components of the system. \n",
    "\n",
    "Additionally, information hiding helps in protecting the integrity of the data, as it prevents \n",
    "external entities from making unauthorized or unintended modifications. \n",
    "\n",
    "Overall, it fosters a modular and robust design, where components interact through controlled \n",
    "interfaces, leading to more reliable and adaptable software systems.'''"
   ]
  },
  {
   "cell_type": "markdown",
   "metadata": {},
   "source": [
    "20. Create a Python class called `Customer` with private attributes for customer details like name, address, and contact information. Implement encapsulation to ensure data integrity and security.\n"
   ]
  },
  {
   "cell_type": "code",
   "execution_count": null,
   "metadata": {},
   "outputs": [],
   "source": []
  },
  {
   "cell_type": "markdown",
   "metadata": {},
   "source": [
    "\n",
    "---\n",
    "\n",
    "### **Polymorphism:**\n",
    "1. What is polymorphism in Python? Explain how it is related to object-oriented programming.\n"
   ]
  },
  {
   "cell_type": "code",
   "execution_count": null,
   "metadata": {},
   "outputs": [],
   "source": [
    "'''Polymorphism in Python is a concept in object-oriented programming that allows objects of \n",
    "different classes to be treated as instances of the same class through a common interface. \n",
    "\n",
    "It is derived from the Greek words \"poly\" (many) and \"morph\" (form), meaning \"many forms.\" \n",
    "\n",
    "In Python, polymorphism is primarily achieved through method overriding and operator overloading. \n",
    "\n",
    "Method overriding occurs when a subclass provides a specific implementation for a method \n",
    "that is already defined in its superclass, allowing different subclasses to have different \n",
    "behaviors for the same method call. \n",
    "\n",
    "Operator overloading allows custom classes to define or modify the behavior of operators \n",
    "(like `+`, `-`, etc.) for their instances. \n",
    "\n",
    "This flexibility enables objects of different classes to be used interchangeably in a consistent \n",
    "way, fostering code reusability and adaptability. \n",
    "\n",
    "Polymorphism is crucial in Python as it promotes a more abstract and general approach to \n",
    "programming, allowing functions and methods to operate on objects of multiple types seamlessly.'''"
   ]
  },
  {
   "cell_type": "markdown",
   "metadata": {},
   "source": [
    "2. Describe the difference between compile-time polymorphism and runtime polymorphism in Python.\n"
   ]
  },
  {
   "cell_type": "code",
   "execution_count": null,
   "metadata": {},
   "outputs": [],
   "source": [
    "'''Compile-Time Polymorphism: Compile-time polymorphism, also known as static polymorphism, \n",
    "involves resolving method calls during the compilation process. \n",
    "\n",
    "This type of polymorphism is typically achieved through method overloading, where multiple \n",
    "methods have the same name but different parameter lists. \n",
    "\n",
    "However, Python does not support traditional method overloading because it is dynamically typed, \n",
    "meaning the method signatures are not checked at compile time. \n",
    "\n",
    "Instead, Python handles similar functionalities using default arguments or variable-length argument \n",
    "lists, allowing methods to accommodate different inputs without requiring distinct method names.\n",
    "\n",
    "Runtime Polymorphism: Runtime polymorphism, or dynamic polymorphism, occurs when the method to be \n",
    "executed is determined during program execution. \n",
    "In Python, this is commonly achieved through method overriding, where a subclass provides a \n",
    "specific implementation of a method already defined in its superclass. \n",
    "\n",
    "The actual method that gets executed is based on the runtime type of the object, not the \n",
    "type of the reference variable. \n",
    "\n",
    "This flexibility allows Python to support dynamic method resolution, enabling more adaptable and \n",
    "reusable code as the behavior of methods can vary based on the object's actual class.'''"
   ]
  },
  {
   "cell_type": "markdown",
   "metadata": {},
   "source": [
    "3. Create a Python class hierarchy for shapes (e.g., circle, square, triangle) and demonstrate polymorphism through a common method, such as `calculate_area()`.\n"
   ]
  },
  {
   "cell_type": "code",
   "execution_count": 5,
   "metadata": {},
   "outputs": [
    {
     "name": "stdout",
     "output_type": "stream",
     "text": [
      "The area of the shape is: 78.53981633974483\n",
      "The area of the shape is: 16\n",
      "The area of the shape is: 9.0\n"
     ]
    }
   ],
   "source": [
    "import math\n",
    "\n",
    "class Shape:\n",
    "    def calculate_area(self):\n",
    "        print(\"Subclasses must implement this method.\")\n",
    "\n",
    "class Circle(Shape):\n",
    "    def __init__(self, radius):\n",
    "        self.radius = radius\n",
    "\n",
    "    def calculate_area(self):\n",
    "        return math.pi * self.radius ** 2\n",
    "\n",
    "class Square(Shape):\n",
    "    def __init__(self, side_length):\n",
    "        self.side_length = side_length\n",
    "\n",
    "    def calculate_area(self):\n",
    "        return self.side_length ** 2\n",
    "\n",
    "class Triangle(Shape):\n",
    "    def __init__(self, base, height):\n",
    "        self.base = base\n",
    "        self.height = height\n",
    "\n",
    "    def calculate_area(self):\n",
    "        return 0.5 * self.base * self.height\n",
    "\n",
    "def print_area(shape):\n",
    "    print(f\"The area of the shape is: {shape.calculate_area()}\")\n",
    "\n",
    "\n",
    "circle = Circle(5)\n",
    "square = Square(4)\n",
    "triangle = Triangle(3, 6)\n",
    "\n",
    "print_area(circle)    \n",
    "print_area(square)    \n",
    "print_area(triangle)\n"
   ]
  },
  {
   "cell_type": "markdown",
   "metadata": {},
   "source": [
    "4. Explain the concept of method overriding in polymorphism. Provide an example.\n"
   ]
  },
  {
   "cell_type": "code",
   "execution_count": 6,
   "metadata": {},
   "outputs": [
    {
     "name": "stdout",
     "output_type": "stream",
     "text": [
      "The animal says: Woof!\n",
      "The animal says: Meow!\n"
     ]
    }
   ],
   "source": [
    "'''\n",
    "Method overriding in polymorphism occurs when a subclass provides a specific implementation of a \n",
    "method that is already defined in its superclass. \n",
    "\n",
    "This allows the subclass to alter or extend the behavior of the method, tailoring it to its \n",
    "specific needs while preserving the same method signature. \n",
    "\n",
    "Method overriding is a key feature of runtime polymorphism, where the method that gets executed is \n",
    "determined at runtime based on the object's actual class, not the type of the reference variable.'''\n",
    "\n",
    "class Animal:\n",
    "    def make_sound(self):\n",
    "        print(\"Subclasses must implement this method.\")\n",
    "\n",
    "class Dog(Animal):\n",
    "    def make_sound(self):\n",
    "        return \"Woof!\"\n",
    "\n",
    "class Cat(Animal):\n",
    "    def make_sound(self):\n",
    "        return \"Meow!\"\n",
    "\n",
    "def print_animal_sound(animal):\n",
    "    print(f\"The animal says: {animal.make_sound()}\")\n",
    "\n",
    "\n",
    "dog = Dog()\n",
    "cat = Cat()\n",
    "\n",
    "print_animal_sound(dog)  \n",
    "print_animal_sound(cat)  \n"
   ]
  },
  {
   "cell_type": "markdown",
   "metadata": {},
   "source": [
    "5. How is polymorphism different from method overloading in Python? Provide examples for both.\n"
   ]
  },
  {
   "cell_type": "code",
   "execution_count": null,
   "metadata": {},
   "outputs": [],
   "source": [
    "'''Polymorphism\n",
    "Definition: Polymorphism allows objects of different classes to be treated as objects of a \n",
    "common superclass through a common interface. \n",
    "\n",
    "It typically involves method overriding, where a subclass provides a specific implementation \n",
    "of a method defined in its superclass. \n",
    "\n",
    "The correct method is determined at runtime based on the actual class of the object.'''\n",
    "\n",
    "\n",
    "class Animal:\n",
    "    def make_sound(self):\n",
    "        raise NotImplementedError(\"Subclasses must implement this method.\")\n",
    "\n",
    "class Dog(Animal):\n",
    "    def make_sound(self):\n",
    "        return \"Woof!\"\n",
    "\n",
    "class Cat(Animal):\n",
    "    def make_sound(self):\n",
    "        return \"Meow!\"\n",
    "\n",
    "def print_animal_sound(animal):\n",
    "    print(f\"The animal says: {animal.make_sound()}\")\n",
    "\n",
    "dog = Dog()\n",
    "cat = Cat()\n",
    "\n",
    "print_animal_sound(dog)  \n",
    "print_animal_sound(cat)  \n",
    "\n",
    "\n",
    "\n",
    "'''Method Overloading\n",
    "Definition: Method overloading refers to defining multiple methods with the same name but different \n",
    "parameter lists within a class. \n",
    "\n",
    "Python does not support traditional method overloading due to its dynamic nature, but similar \n",
    "behavior can be achieved using default arguments or variable-length argument lists'''\n",
    "\n",
    "\n",
    "class MathOperations:\n",
    "    def add(self, a, b, *args):\n",
    "        result = a + b\n",
    "        for number in args:\n",
    "            result += number\n",
    "        return result\n",
    "\n",
    "    \n",
    "print(math.add(2, 3))        \n",
    "print(math.add(2, 3, 4))     \n",
    "print(math.add(1, 1, 1, 1)) \n"
   ]
  },
  {
   "cell_type": "markdown",
   "metadata": {},
   "source": [
    "6. Create a Python class called `Animal` with a method `speak()`. Then, create child classes like `Dog`, `Cat`, and `Bird`, each with their own `speak()` method. Demonstrate polymorphism by calling the `speak()` method on objects of different subclasses.\n"
   ]
  },
  {
   "cell_type": "code",
   "execution_count": null,
   "metadata": {},
   "outputs": [],
   "source": [
    "class Animal:\n",
    "    def speak(self):\n",
    "        print(\"Subclasses must implement this method.\")\n",
    "\n",
    "class Dog(Animal):\n",
    "    def speak(self):\n",
    "        return \"Woof!\"\n",
    "\n",
    "class Cat(Animal):\n",
    "    def speak(self):\n",
    "        return \"Meow!\"\n",
    "\n",
    "class Bird(Animal):\n",
    "    def speak(self):\n",
    "        return \"Chirp!\"\n",
    "\n",
    "def make_animal_speak(animal):\n",
    "    print(animal.speak())\n",
    "\n",
    "dog = Dog()\n",
    "cat = Cat()\n",
    "bird = Bird()\n",
    "\n",
    "make_animal_speak(dog)  \n",
    "make_animal_speak(cat)  \n",
    "make_animal_speak(bird) \n"
   ]
  },
  {
   "cell_type": "markdown",
   "metadata": {},
   "source": [
    "7. Discuss the use of abstract methods and classes in achieving polymorphism in Python. Provide an example using the `abc` module.\n"
   ]
  },
  {
   "cell_type": "code",
   "execution_count": null,
   "metadata": {},
   "outputs": [],
   "source": [
    "'''Abstract methods and classes are fundamental in achieving polymorphism in Python, particularly \n",
    "when using the abc (Abstract Base Classes) module. \n",
    "\n",
    "Abstract classes are classes that cannot be instantiated on their own and are designed to be \n",
    "subclassed. \n",
    "\n",
    "They define abstract methods that must be implemented by any concrete subclass. \n",
    "By using abstract methods, you enforce a contract that subclasses must follow, \n",
    "ensuring they provide specific functionality. \n",
    "\n",
    "This approach facilitates polymorphism by allowing different subclasses to implement their \n",
    "versions of the abstract methods while adhering to a common interface. \n",
    "\n",
    "The abc module provides the ABC class and the abstractmethod decorator to declare abstract \n",
    "methods. \n",
    "\n",
    "This structure allows you to define a common interface in the abstract class and then \n",
    "implement this interface differently across various subclasses. \n",
    "\n",
    "Consequently, polymorphism is achieved as objects of different subclasses can be treated \n",
    "uniformly through their shared abstract base class, with the actual behavior determined \n",
    "at runtime based on the subclass implementation.'''"
   ]
  },
  {
   "cell_type": "markdown",
   "metadata": {},
   "source": [
    "8. Create a Python class hierarchy for a vehicle system (e.g., car, bicycle, boat) and implement a polymorphic `start()` method that prints a message specific to each vehicle type.\n"
   ]
  },
  {
   "cell_type": "code",
   "execution_count": 7,
   "metadata": {},
   "outputs": [
    {
     "name": "stdout",
     "output_type": "stream",
     "text": [
      "The car's engine roars to life!\n",
      "The bicycle is ready to ride!\n",
      "The boat's engine starts with a rumble!\n"
     ]
    }
   ],
   "source": [
    "class Vehicle:\n",
    "    def start(self):\n",
    "        print(\"Subclasses must implement this method.\")\n",
    "\n",
    "class Car(Vehicle):\n",
    "    def start(self):\n",
    "        print(\"The car's engine roars to life!\")\n",
    "\n",
    "class Bicycle(Vehicle):\n",
    "    def start(self):\n",
    "        print(\"The bicycle is ready to ride!\")\n",
    "\n",
    "class Boat(Vehicle):\n",
    "    def start(self):\n",
    "        print(\"The boat's engine starts with a rumble!\")\n",
    "\n",
    "def start_vehicle(vehicle):\n",
    "    vehicle.start()\n",
    "\n",
    "\n",
    "car = Car()\n",
    "bicycle = Bicycle()\n",
    "boat = Boat()\n",
    "\n",
    "start_vehicle(car)      \n",
    "start_vehicle(bicycle)  \n",
    "start_vehicle(boat)     \n"
   ]
  },
  {
   "cell_type": "markdown",
   "metadata": {},
   "source": [
    "9. Explain the significance of the `isinstance()` and `issubclass()` functions in Python polymorphism.\n"
   ]
  },
  {
   "cell_type": "code",
   "execution_count": null,
   "metadata": {},
   "outputs": [],
   "source": [
    "'''The `isinstance()` function in Python is significant in polymorphism as it allows you to \n",
    "check if an object is an instance of a specific class or a subclass thereof. \n",
    "\n",
    "This function is essential for type checking, enabling you to ensure that an object conforms \n",
    "to a particular type before performing operations that depend on that type. \n",
    "\n",
    "By using `isinstance()`, you can safely invoke methods or access attributes that are specific \n",
    "to a class, enhancing code robustness and preventing runtime errors. \n",
    "\n",
    "This is particularly useful in polymorphic scenarios where the exact class of an object might \n",
    "not be known but needs to be handled appropriately based on its type.\n",
    "\n",
    "The `issubclass()` function, on the other hand, is used to determine if a class is a \n",
    "subclass of another class. \n",
    "This is useful for verifying inheritance relationships, ensuring that a class inherits from a \n",
    "specified base class, which is critical in polymorphic designs where methods or attributes \n",
    "are inherited from superclasses. \n",
    "\n",
    "By using `issubclass()`, you can implement type-specific logic or enforce constraints on class \n",
    "hierarchies, aiding in maintaining a well-structured and scalable object-oriented design. \n",
    "\n",
    "Both functions help in leveraging polymorphism effectively by providing mechanisms to check and \n",
    "validate types and inheritance relationships in a dynamic and flexible manner.'''"
   ]
  },
  {
   "cell_type": "markdown",
   "metadata": {},
   "source": [
    "10. What is the role of the `@abstractmethod` decorator in achieving polymorphism in Python? Provide an example.\n"
   ]
  },
  {
   "cell_type": "code",
   "execution_count": null,
   "metadata": {},
   "outputs": [],
   "source": [
    "'''\n",
    "The @abstractmethod decorator in Python is a key tool for achieving polymorphism through \n",
    "abstract base classes. \n",
    "\n",
    "It is part of the abc module and is used to declare methods in an abstract base class that \n",
    "must be implemented by any concrete subclass. \n",
    "\n",
    "By marking a method with @abstractmethod, you enforce a contract that ensures subclasses \n",
    "provide specific implementations of these methods. \n",
    "\n",
    "This guarantees that all subclasses adhere to a common interface, which is crucial for \n",
    "achieving polymorphism. \n",
    "\n",
    "Abstract base classes cannot be instantiated directly, making them ideal for defining common \n",
    "interfaces and ensuring that subclasses implement the necessary methods.'''"
   ]
  },
  {
   "cell_type": "markdown",
   "metadata": {},
   "source": [
    "11. Create a Python class called `Shape` with a polymorphic method `area()` that calculates the area of different shapes (e.g., circle, rectangle, triangle).\n"
   ]
  },
  {
   "cell_type": "code",
   "execution_count": 8,
   "metadata": {},
   "outputs": [
    {
     "name": "stdout",
     "output_type": "stream",
     "text": [
      "The area of the shape is: 78.53981633974483\n",
      "The area of the shape is: 24\n",
      "The area of the shape is: 10.5\n"
     ]
    }
   ],
   "source": [
    "import math\n",
    "\n",
    "class Shape:\n",
    "    def area(self):\n",
    "        print(\"Subclasses must implement this method.\")\n",
    "\n",
    "class Circle(Shape):\n",
    "    def __init__(self, radius):\n",
    "        self.radius = radius\n",
    "\n",
    "    def area(self):\n",
    "        return math.pi * self.radius ** 2\n",
    "\n",
    "class Rectangle(Shape):\n",
    "    def __init__(self, width, height):\n",
    "        self.width = width\n",
    "        self.height = height\n",
    "\n",
    "    def area(self):\n",
    "        return self.width * self.height\n",
    "\n",
    "class Triangle(Shape):\n",
    "    def __init__(self, base, height):\n",
    "        self.base = base\n",
    "        self.height = height\n",
    "\n",
    "    def area(self):\n",
    "        return 0.5 * self.base * self.height\n",
    "\n",
    "def print_area(shape):\n",
    "    print(f\"The area of the shape is: {shape.area()}\")\n",
    "\n",
    "\n",
    "circle = Circle(5)\n",
    "rectangle = Rectangle(4, 6)\n",
    "triangle = Triangle(3, 7)\n",
    "\n",
    "print_area(circle)      \n",
    "print_area(rectangle)   \n",
    "print_area(triangle)    \n"
   ]
  },
  {
   "cell_type": "markdown",
   "metadata": {},
   "source": [
    "12. Discuss the benefits of polymorphism in terms of code reusability and flexibility in Python programs.\n"
   ]
  },
  {
   "cell_type": "code",
   "execution_count": null,
   "metadata": {},
   "outputs": [],
   "source": [
    "'''Polymorphism offers significant benefits in terms of code reusability and flexibility in \n",
    "Python programs. \n",
    "\n",
    "Code Reusability: Polymorphism promotes code reusability by allowing objects of different \n",
    "classes to be used interchangeably through a common interface. \n",
    "This means that functions or methods designed to work with a base class can also work \n",
    "with any subclass of that base class without needing to be rewritten for each specific \n",
    "subclass. \n",
    "For example, a function that operates on objects of a base class can process any subclass \n",
    "instance that implements the required methods. \n",
    "This reduces code duplication, as the same code can handle different types of objects, \n",
    "adhering to the DRY (Don't Repeat Yourself) principle.\n",
    "\n",
    "Flexibility: Polymorphism enhances flexibility by allowing a program to process \n",
    "different types of objects through a unified interface. \n",
    "This capability enables more dynamic and adaptable code, as the same function or method can \n",
    "handle various object types without knowing their specific classes in advance. \n",
    "\n",
    "For instance, a function designed to handle any shape object can process `Circle`, `Rectangle`, \n",
    "or `Triangle` objects, depending on what is passed at runtime. \n",
    "\n",
    "This flexibility simplifies code maintenance and extension, as new subclasses can be added \n",
    "with minimal changes to existing code, facilitating easier updates and scalability.\n",
    "\n",
    "Overall, polymorphism streamlines the development process by allowing code to be more generic and \n",
    "reusable, making it easier to manage and extend.'''"
   ]
  },
  {
   "cell_type": "markdown",
   "metadata": {},
   "source": [
    "13. Explain the use of the `super()` function in Python polymorphism. How does it help call methods of parent classes?\n"
   ]
  },
  {
   "cell_type": "code",
   "execution_count": null,
   "metadata": {},
   "outputs": [],
   "source": [
    "'''The `super()` function in Python is used to call methods from a parent class within a subclass, \n",
    "facilitating polymorphism and enabling the extension or enhancement of inherited methods. \n",
    "\n",
    "By using `super()`, you can invoke methods from a superclass, allowing you to build upon or \n",
    "modify their behavior while preserving the original functionality. \n",
    "\n",
    "This is particularly useful in scenarios where a subclass needs to extend or augment the \n",
    "behavior of a method defined in its superclass. \n",
    "\n",
    "The `super()` function helps in maintaining a clean and manageable class hierarchy by \n",
    "ensuring that methods are called in the correct order and that all relevant functionality from \n",
    "parent classes is preserved. \n",
    "\n",
    "It allows subclasses to leverage the existing implementation in their parent classes while \n",
    "adding or overriding specific features, thereby promoting code reuse and enhancing the \n",
    "flexibility of the code. \n",
    "\n",
    "This makes it easier to maintain and extend the class hierarchy while ensuring that the base \n",
    "class methods are properly integrated into the subclass functionality.'''"
   ]
  },
  {
   "cell_type": "markdown",
   "metadata": {},
   "source": [
    "14. Create a Python class hierarchy for a banking system with various account types (e.g., savings, checking, credit card) and demonstrate polymorphism by implementing a common `withdraw()` method.\n"
   ]
  },
  {
   "cell_type": "code",
   "execution_count": 9,
   "metadata": {},
   "outputs": [
    {
     "name": "stdout",
     "output_type": "stream",
     "text": [
      "Withdrew $150 from Savings Account. New balance: $850\n",
      "Insufficient funds in Checking Account.\n",
      "Withdrew $50 from Credit Card Account. New balance: $150\n"
     ]
    }
   ],
   "source": [
    "class BankAccount:\n",
    "    def __init__(self, balance):\n",
    "        self.balance = balance\n",
    "\n",
    "    def withdraw(self, amount):\n",
    "        print(\"Subclasses must implement this method.\")\n",
    "\n",
    "    def deposit(self, amount):\n",
    "        self.balance += amount\n",
    "\n",
    "    def get_balance(self):\n",
    "        return self.balance\n",
    "\n",
    "class SavingsAccount(BankAccount):\n",
    "    def withdraw(self, amount):\n",
    "        if amount <= self.balance:\n",
    "            self.balance -= amount\n",
    "            print(f\"Withdrew ${amount} from Savings Account. New balance: ${self.balance}\")\n",
    "        else:\n",
    "            print(\"Insufficient funds in Savings Account.\")\n",
    "\n",
    "class CheckingAccount(BankAccount):\n",
    "    def withdraw(self, amount):\n",
    "        if amount <= self.balance:\n",
    "            self.balance -= amount\n",
    "            print(f\"Withdrew ${amount} from Checking Account. New balance: ${self.balance}\")\n",
    "        else:\n",
    "            print(\"Insufficient funds in Checking Account.\")\n",
    "\n",
    "class CreditCardAccount(BankAccount):\n",
    "    def withdraw(self, amount):\n",
    "        \n",
    "        self.balance -= amount\n",
    "        print(f\"Withdrew ${amount} from Credit Card Account. New balance: ${self.balance}\")\n",
    "\n",
    "def process_withdrawal(account, amount):\n",
    "    account.withdraw(amount)\n",
    "\n",
    "savings = SavingsAccount(1000)\n",
    "checking = CheckingAccount(500)\n",
    "credit_card = CreditCardAccount(200)\n",
    "\n",
    "process_withdrawal(savings, 150)        \n",
    "process_withdrawal(checking, 600)       \n",
    "process_withdrawal(credit_card, 50)     \n"
   ]
  },
  {
   "cell_type": "markdown",
   "metadata": {},
   "source": [
    "15. Describe the concept of operator overloading in Python and how it relates to polymorphism. Provide examples using operators like `+` and `*`.\n"
   ]
  },
  {
   "cell_type": "code",
   "execution_count": null,
   "metadata": {},
   "outputs": [],
   "source": [
    "'''\n",
    "Operator overloading in Python allows you to define how operators like +, *, and others \n",
    "behave with instances of user-defined classes. \n",
    "\n",
    "This concept relates to polymorphism by enabling objects of different classes to use the \n",
    "same operators in a way that is contextually appropriate for their type. \n",
    "\n",
    "By overloading operators, you can define custom behavior for operations involving instances \n",
    "of your classes, making them interact in intuitive and meaningful ways.\n",
    "\n",
    "How It Relates to Polymorphism\n",
    "\n",
    "Operator overloading is a form of polymorphism where the behavior of an operator is determined \n",
    "by the type of the objects involved. \n",
    "\n",
    "Just as with method overriding, operator overloading allows different classes to define \n",
    "specific behaviors for the same operator, providing a consistent interface while allowing \n",
    "for different implementations. \n",
    "\n",
    "This means that operators can perform different actions depending on the type of objects \n",
    "they are applied to, making the code more flexible and expressive.\n",
    "\n",
    "\n",
    "\n",
    "'''"
   ]
  },
  {
   "cell_type": "markdown",
   "metadata": {},
   "source": [
    "16. What is dynamic polymorphism, and how is it achieved in Python?\n"
   ]
  },
  {
   "cell_type": "code",
   "execution_count": null,
   "metadata": {},
   "outputs": [],
   "source": []
  },
  {
   "cell_type": "markdown",
   "metadata": {},
   "source": [
    "17. Create a Python class hierarchy for employees in a company (e.g., manager, developer, designer) and implement polymorphism through a common `calculate_salary()` method.\n"
   ]
  },
  {
   "cell_type": "code",
   "execution_count": 12,
   "metadata": {},
   "outputs": [
    {
     "name": "stdout",
     "output_type": "stream",
     "text": [
      "rohan's salary: 90000\n",
      "sohan's salary: 61000\n",
      "aniket's salary: 60000\n"
     ]
    }
   ],
   "source": [
    "class Employee:\n",
    "    def __init__(self, name):\n",
    "        self.name = name\n",
    "\n",
    "    def calculate_salary(self):\n",
    "        print(\"Subclasses must implement this method.\")\n",
    "\n",
    "class Manager(Employee):\n",
    "    def __init__(self, name, base_salary, bonus):\n",
    "        super().__init__(name)\n",
    "        self.base_salary = base_salary\n",
    "        self.bonus = bonus\n",
    "\n",
    "    def calculate_salary(self):\n",
    "        return self.base_salary + self.bonus\n",
    "\n",
    "class Developer(Employee):\n",
    "    def __init__(self, name, base_salary, overtime_hours, overtime_rate):\n",
    "        super().__init__(name)\n",
    "        self.base_salary = base_salary\n",
    "        self.overtime_hours = overtime_hours\n",
    "        self.overtime_rate = overtime_rate\n",
    "\n",
    "    def calculate_salary(self):\n",
    "        return self.base_salary + (self.overtime_hours * self.overtime_rate)\n",
    "\n",
    "class Designer(Employee):\n",
    "    def __init__(self, name, base_salary, project_bonus):\n",
    "        super().__init__(name)\n",
    "        self.base_salary = base_salary\n",
    "        self.project_bonus = project_bonus\n",
    "\n",
    "    def calculate_salary(self):\n",
    "        return self.base_salary + self.project_bonus\n",
    "\n",
    "def print_salary(employee):\n",
    "    print(f\"{employee.name}'s salary: {employee.calculate_salary()}\")\n",
    "\n",
    "\n",
    "manager = Manager(\"rohan\", 80000, 10000)\n",
    "developer = Developer(\"sohan\", 60000, 20, 50)\n",
    "designer = Designer(\"aniket\", 55000, 5000)\n",
    "\n",
    "print_salary(manager)   \n",
    "print_salary(developer) \n",
    "print_salary(designer)  \n"
   ]
  },
  {
   "cell_type": "markdown",
   "metadata": {},
   "source": [
    "18. Discuss the concept of function pointers and how they can be used to achieve polymorphism in Python.\n"
   ]
  },
  {
   "cell_type": "code",
   "execution_count": null,
   "metadata": {},
   "outputs": [],
   "source": [
    "'''In Python, the concept of function pointers, while not explicitly defined as in \n",
    "languages like C or C++, is effectively implemented through the use of first-class functions \n",
    "and callable objects. \n",
    "\n",
    "In Python, functions are first-class citizens, meaning they can be passed as arguments, \n",
    "returned from other functions, and assigned to variables. \n",
    "\n",
    "This flexibility allows functions to be used similarly to function pointers. \n",
    "By leveraging this capability, you can achieve polymorphism by dynamically choosing and invoking \n",
    "different functions or methods based on the context or runtime conditions. \n",
    "\n",
    "For instance, you can store a variety of functions in a dictionary or list and call the \n",
    "appropriate one based on user input or other conditions. \n",
    "\n",
    "This approach enables dynamic method resolution and code modularity, allowing for flexible \n",
    "and reusable code. \n",
    "\n",
    "It aligns with the principles of polymorphism by enabling different functions or methods to be \n",
    "invoked through a uniform interface, depending on the specific requirements at runtime.'''"
   ]
  },
  {
   "cell_type": "markdown",
   "metadata": {},
   "source": [
    "19. Explain the role of interfaces and abstract classes in polymorphism, drawing comparisons between them.\n"
   ]
  },
  {
   "cell_type": "code",
   "execution_count": null,
   "metadata": {},
   "outputs": [],
   "source": []
  },
  {
   "cell_type": "markdown",
   "metadata": {},
   "source": [
    "20. Create a Python class for a zoo simulation, demonstrating polymorphism with different animal types (e.g., mammals, birds, reptiles) and their behavior (e.g., eating, sleeping, making sounds).\n",
    "\n"
   ]
  },
  {
   "cell_type": "code",
   "execution_count": null,
   "metadata": {},
   "outputs": [],
   "source": [
    "class Animal:\n",
    "    def eat(self):\n",
    "        print(\"Subclasses must implement this method.\")\n",
    "\n",
    "    def sleep(self):\n",
    "        print(\"Subclasses must implement this method.\")\n",
    "    \n",
    "    def make_sound(self):\n",
    "        print(\"Subclasses must implement this method.\")\n",
    "\n",
    "class Mammal(Animal):\n",
    "    def eat(self):\n",
    "        print(\"The mammal is eating.\")\n",
    "\n",
    "    def sleep(self):\n",
    "        print(\"The mammal is sleeping.\")\n",
    "\n",
    "    def make_sound(self):\n",
    "        print(\"The mammal makes a sound.\")\n",
    "\n",
    "class Bird(Animal):\n",
    "    def eat(self):\n",
    "        print(\"The bird is pecking at seeds.\")\n",
    "\n",
    "    def sleep(self):\n",
    "        print(\"The bird is perched and sleeping.\")\n",
    "\n",
    "    def make_sound(self):\n",
    "        print(\"The bird chirps.\")\n",
    "\n",
    "class Reptile(Animal):\n",
    "    def eat(self):\n",
    "        print(\"The reptile is catching its prey.\")\n",
    "\n",
    "    def sleep(self):\n",
    "        print(\"The reptile is basking in the sun.\")\n",
    "\n",
    "    def make_sound(self):\n",
    "        print(\"The reptile hisses.\")\n",
    "\n",
    "def simulate_animal_behavior(animal):\n",
    "    animal.eat()\n",
    "    animal.sleep()\n",
    "    animal.make_sound()\n",
    "\n",
    "\n",
    "lion = Mammal()\n",
    "parrot = Bird()\n",
    "snake = Reptile()\n",
    "\n",
    "print(\"Lion's behavior:\")    \n",
    "print(\"\\nParrot's behavior:\")\n",
    "\n",
    "print(\"\\nSnake's behavior:\")\n"
   ]
  },
  {
   "cell_type": "markdown",
   "metadata": {},
   "source": [
    "---\n",
    "\n",
    "### **Abstraction:**\n",
    "1. What is abstraction in Python, and how does it relate to object-oriented programming?\n"
   ]
  },
  {
   "cell_type": "code",
   "execution_count": null,
   "metadata": {},
   "outputs": [],
   "source": [
    "'''Abstraction in Python is a fundamental concept in object-oriented programming that \n",
    "focuses on hiding the complex implementation details of a system and exposing only \n",
    "the essential features to the user. \n",
    "\n",
    "This allows developers to interact with objects and methods at a higher level without \n",
    "needing to understand the underlying complexities. \n",
    "\n",
    "In Python, abstraction is typically achieved through abstract classes and methods, which define \n",
    "a blueprint for derived classes without providing specific implementations. \n",
    "\n",
    "This promotes a clear separation between what an object does and how it does it, \n",
    "facilitating easier maintenance and scalability of code. \n",
    "\n",
    "By emphasizing abstraction, Python encourages developers to design systems with well-defined \n",
    "interfaces, enabling them to manage complexity and enhance code reusability and modularity.'''"
   ]
  },
  {
   "cell_type": "markdown",
   "metadata": {},
   "source": [
    "2. Describe the benefits of abstraction in terms of code organization and complexity reduction.\n"
   ]
  },
  {
   "cell_type": "code",
   "execution_count": null,
   "metadata": {},
   "outputs": [],
   "source": [
    "'''Abstraction simplifies code by hiding complex implementation details and exposing only \n",
    "the essential features. \n",
    "\n",
    "This makes the codebase more organized and easier to manage because developers interact \n",
    "with high-level interfaces rather than dealing with intricate specifics. \n",
    "\n",
    "By focusing on what an object does instead of how it does it, abstraction reduces complexity \n",
    "and makes the system easier to understand and maintain. \n",
    "\n",
    "This approach helps keep code modular and adaptable, making it simpler to work with and \n",
    "less prone to errors.'''"
   ]
  },
  {
   "cell_type": "markdown",
   "metadata": {},
   "source": [
    "3. Create a Python class called `Shape` with an abstract method `calculate_area()`. Then, create child classes (e.g., `Circle`, `Rectangle`) that implement the `calculate_area()` method. Provide an example of using these classes.\n"
   ]
  },
  {
   "cell_type": "code",
   "execution_count": 13,
   "metadata": {},
   "outputs": [
    {
     "name": "stdout",
     "output_type": "stream",
     "text": [
      "The area of the shape is: 78.53981633974483\n",
      "The area of the shape is: 24\n"
     ]
    }
   ],
   "source": [
    "from abc import ABC, abstractmethod\n",
    "import math\n",
    "\n",
    "class Shape(ABC):\n",
    "    @abstractmethod\n",
    "    def calculate_area(self):\n",
    "        pass\n",
    "\n",
    "class Circle(Shape):\n",
    "    def __init__(self, radius):\n",
    "        self.radius = radius\n",
    "\n",
    "    def calculate_area(self):\n",
    "        return math.pi * self.radius ** 2\n",
    "\n",
    "class Rectangle(Shape):\n",
    "    def __init__(self, width, height):\n",
    "        self.width = width\n",
    "        self.height = height\n",
    "\n",
    "    def calculate_area(self):\n",
    "        return self.width * self.height\n",
    "\n",
    "def print_area(shape):\n",
    "    print(f\"The area of the shape is: {shape.calculate_area()}\")\n",
    "\n",
    "\n",
    "circle = Circle(5)\n",
    "rectangle = Rectangle(4, 6)\n",
    "\n",
    "print_area(circle)      \n",
    "print_area(rectangle)   "
   ]
  },
  {
   "cell_type": "markdown",
   "metadata": {},
   "source": [
    "4. Explain the concept of abstract classes in Python and how they are defined using the `abc` module. Provide an example.\n"
   ]
  },
  {
   "cell_type": "code",
   "execution_count": null,
   "metadata": {},
   "outputs": [],
   "source": [
    "'''Abstract classes in Python are classes that cannot be instantiated on their own and are meant \n",
    "to be subclassed. \n",
    "They provide a way to define a common interface and enforce that certain methods are implemented \n",
    "in any derived class. \n",
    "\n",
    "Abstract classes are useful for defining a template for a set of related classes while \n",
    "ensuring that certain methods are consistently implemented across those classes.\n",
    "\n",
    "In Python, abstract classes are defined using the abc module (Abstract Base Classes). \n",
    "The abc module provides the ABC class and the @abstractmethod decorator to create abstract \n",
    "classes and methods. \n",
    "\n",
    "An abstract class inherits from ABC, and any method that should be enforced in subclasses \n",
    "is decorated with @abstractmethod.'''"
   ]
  },
  {
   "cell_type": "markdown",
   "metadata": {},
   "source": [
    "5. How do abstract classes differ from regular classes in Python? Discuss their use cases.\n"
   ]
  },
  {
   "cell_type": "code",
   "execution_count": null,
   "metadata": {},
   "outputs": [],
   "source": []
  },
  {
   "cell_type": "markdown",
   "metadata": {},
   "source": [
    "6. Create a Python class for a bank account and demonstrate abstraction by hiding the account balance and providing methods to deposit and withdraw funds.\n"
   ]
  },
  {
   "cell_type": "code",
   "execution_count": 14,
   "metadata": {},
   "outputs": [
    {
     "name": "stdout",
     "output_type": "stream",
     "text": [
      "Deposited $50. New balance: $150\n",
      "Withdrew $30. New balance: $120\n",
      "Current balance: $120\n"
     ]
    }
   ],
   "source": [
    "class BankAccount:\n",
    "    def __init__(self, initial_balance=0):\n",
    "        self._balance = initial_balance  \n",
    "\n",
    "    def deposit(self, amount):\n",
    "        if amount > 0:\n",
    "            self._balance += amount\n",
    "            print(f\"Deposited ${amount}. New balance: ${self._balance}\")\n",
    "        else:\n",
    "            print(\"Deposit amount must be positive.\")\n",
    "\n",
    "    def withdraw(self, amount):\n",
    "        if 0 < amount <= self._balance:\n",
    "            self._balance -= amount\n",
    "            print(f\"Withdrew ${amount}. New balance: ${self._balance}\")\n",
    "        elif amount > self._balance:\n",
    "            print(\"Insufficient funds.\")\n",
    "        else:\n",
    "            print(\"Withdrawal amount must be positive.\")\n",
    "\n",
    "    def get_balance(self):\n",
    "        return self._balance\n",
    "\n",
    "account = BankAccount(100)\n",
    "account.deposit(50)     \n",
    "account.withdraw(30)    \n",
    "print(f\"Current balance: ${account.get_balance()}\")  \n"
   ]
  },
  {
   "cell_type": "markdown",
   "metadata": {},
   "source": [
    "7. Discuss the concept of interface classes in Python and their role in achieving abstraction.\n"
   ]
  },
  {
   "cell_type": "code",
   "execution_count": null,
   "metadata": {},
   "outputs": [],
   "source": [
    "\n",
    "'''Interface classes in Python are abstract classes that define a set of methods which must \n",
    "be implemented by any concrete subclass. \n",
    "\n",
    "They serve as a blueprint for ensuring that various subclasses adhere to a specific interface \n",
    "or contract. \n",
    "\n",
    "The concept of interface classes is central to achieving abstraction because it allows developers \n",
    "to define the \"what\" of a class without specifying the \"how.\" \n",
    "\n",
    "By using abstract methods and the `abc` module, interface classes enable developers to outline \n",
    "required methods and properties while leaving their implementation to subclasses. \n",
    "\n",
    "This approach enforces consistency across different classes that share the same interface, \n",
    "facilitates polymorphism, and promotes code reusability. \n",
    "\n",
    "It helps in organizing code and separating the definition of functionalities from their \n",
    "implementation, allowing for easier maintenance and scalability of complex systems.'''"
   ]
  },
  {
   "cell_type": "markdown",
   "metadata": {},
   "source": [
    "8. Create a Python class hierarchy for animals and implement abstraction by defining common methods (e.g., `eat()`, `sleep()`) in an abstract base class.\n"
   ]
  },
  {
   "cell_type": "code",
   "execution_count": 15,
   "metadata": {},
   "outputs": [
    {
     "name": "stdout",
     "output_type": "stream",
     "text": [
      "Dog's behavior:\n",
      "The dog is eating kibble.\n",
      "The dog is sleeping in its bed.\n",
      "\n",
      "Cat's behavior:\n",
      "The cat is eating fish.\n",
      "The cat is napping on the couch.\n",
      "\n",
      "Bird's behavior:\n",
      "The bird is pecking at seeds.\n",
      "The bird is perched and sleeping.\n"
     ]
    }
   ],
   "source": [
    "from abc import ABC, abstractmethod\n",
    "\n",
    "class Animal(ABC):\n",
    "    @abstractmethod\n",
    "    def eat(self):\n",
    "        \"\"\"Method to be implemented by subclasses for eating behavior.\"\"\"\n",
    "        pass\n",
    "\n",
    "    @abstractmethod\n",
    "    def sleep(self):\n",
    "        \"\"\"Method to be implemented by subclasses for sleeping behavior.\"\"\"\n",
    "        pass\n",
    "\n",
    "class Dog(Animal):\n",
    "    def eat(self):\n",
    "        print(\"The dog is eating kibble.\")\n",
    "\n",
    "    def sleep(self):\n",
    "        print(\"The dog is sleeping in its bed.\")\n",
    "\n",
    "class Cat(Animal):\n",
    "    def eat(self):\n",
    "        print(\"The cat is eating fish.\")\n",
    "\n",
    "    def sleep(self):\n",
    "        print(\"The cat is napping on the couch.\")\n",
    "\n",
    "class Bird(Animal):\n",
    "    def eat(self):\n",
    "        print(\"The bird is pecking at seeds.\")\n",
    "\n",
    "    def sleep(self):\n",
    "        print(\"The bird is perched and sleeping.\")\n",
    "\n",
    "def describe_animal(animal):\n",
    "    animal.eat()\n",
    "    animal.sleep()\n",
    "\n",
    "dog = Dog()\n",
    "cat = Cat()\n",
    "bird = Bird()\n",
    "\n",
    "print(\"Dog's behavior:\")\n",
    "describe_animal(dog)\n",
    "    \n",
    "print(\"\\nCat's behavior:\")\n",
    "describe_animal(cat)\n",
    "    \n",
    "print(\"\\nBird's behavior:\")\n",
    "describe_animal(bird)\n"
   ]
  },
  {
   "cell_type": "markdown",
   "metadata": {},
   "source": [
    "9. Explain the significance of encapsulation in achieving abstraction. Provide examples.\n"
   ]
  },
  {
   "cell_type": "code",
   "execution_count": null,
   "metadata": {},
   "outputs": [],
   "source": []
  },
  {
   "cell_type": "markdown",
   "metadata": {},
   "source": [
    "10. What is the purpose of abstract methods, and how do they enforce abstraction in Python classes?\n"
   ]
  },
  {
   "cell_type": "code",
   "execution_count": null,
   "metadata": {},
   "outputs": [],
   "source": []
  },
  {
   "cell_type": "markdown",
   "metadata": {},
   "source": [
    "11. Create a Python class for a vehicle system and demonstrate abstraction by defining common methods (e.g., `start()`, `stop()`) in an abstract base class.\n"
   ]
  },
  {
   "cell_type": "code",
   "execution_count": null,
   "metadata": {},
   "outputs": [],
   "source": []
  },
  {
   "cell_type": "markdown",
   "metadata": {},
   "source": [
    "12. Describe the use of abstract properties in Python and how they can be employed in abstract classes.\n"
   ]
  },
  {
   "cell_type": "code",
   "execution_count": null,
   "metadata": {},
   "outputs": [],
   "source": []
  },
  {
   "cell_type": "markdown",
   "metadata": {},
   "source": [
    "13. Create a Python class hierarchy for employees in a company (e.g., manager, developer, designer) and implement abstraction by defining a common `get_salary()` method.\n"
   ]
  },
  {
   "cell_type": "code",
   "execution_count": null,
   "metadata": {},
   "outputs": [],
   "source": []
  },
  {
   "cell_type": "markdown",
   "metadata": {},
   "source": [
    "14. Discuss the differences between abstract classes and concrete classes in Python, including their instantiation.\n"
   ]
  },
  {
   "cell_type": "code",
   "execution_count": null,
   "metadata": {},
   "outputs": [],
   "source": []
  },
  {
   "cell_type": "markdown",
   "metadata": {},
   "source": [
    "15. Explain the concept of abstract data types (ADTs) and their role in achieving abstraction in Python.\n"
   ]
  },
  {
   "cell_type": "code",
   "execution_count": null,
   "metadata": {},
   "outputs": [],
   "source": []
  },
  {
   "cell_type": "markdown",
   "metadata": {},
   "source": [
    "16. Create a Python class for a computer system, demonstrating abstraction by defining common methods (e.g., `power_on()`, `shutdown()`) in an abstract base class.\n"
   ]
  },
  {
   "cell_type": "code",
   "execution_count": null,
   "metadata": {},
   "outputs": [],
   "source": []
  },
  {
   "cell_type": "markdown",
   "metadata": {},
   "source": [
    "17. Discuss the benefits of using abstraction in large-scale software development projects.\n"
   ]
  },
  {
   "cell_type": "code",
   "execution_count": null,
   "metadata": {},
   "outputs": [],
   "source": []
  },
  {
   "cell_type": "markdown",
   "metadata": {},
   "source": [
    "18. Explain how abstraction enhances code reusability and modularity in Python programs.\n"
   ]
  },
  {
   "cell_type": "code",
   "execution_count": null,
   "metadata": {},
   "outputs": [],
   "source": []
  },
  {
   "cell_type": "markdown",
   "metadata": {},
   "source": [
    "19. Create a Python class for a library system, implementing abstraction by defining common methods (e.g., `add_book()`, `borrow_book()`) in an abstract base class.\n"
   ]
  },
  {
   "cell_type": "code",
   "execution_count": null,
   "metadata": {},
   "outputs": [],
   "source": []
  },
  {
   "cell_type": "markdown",
   "metadata": {},
   "source": [
    "20. Describe the concept of method abstraction in Python and how it relates to polymorphism.\n",
    "\n"
   ]
  },
  {
   "cell_type": "code",
   "execution_count": null,
   "metadata": {},
   "outputs": [],
   "source": []
  },
  {
   "cell_type": "markdown",
   "metadata": {},
   "source": [
    "---\n",
    "\n",
    "### **Composition:**\n",
    "1. Explain the concept of composition in Python and how it is used to build complex objects from simpler ones.\n"
   ]
  },
  {
   "cell_type": "code",
   "execution_count": null,
   "metadata": {},
   "outputs": [],
   "source": []
  },
  {
   "cell_type": "markdown",
   "metadata": {},
   "source": [
    "2. Describe the difference between composition and inheritance in object-oriented programming.\n"
   ]
  },
  {
   "cell_type": "code",
   "execution_count": null,
   "metadata": {},
   "outputs": [],
   "source": []
  },
  {
   "cell_type": "markdown",
   "metadata": {},
   "source": [
    "3. Create a Python class called `Author` with attributes for name and birthdate. Then, create a `Book` class that contains an instance of `Author` as a composition. Provide an example of creating a `Book` object.\n"
   ]
  },
  {
   "cell_type": "code",
   "execution_count": null,
   "metadata": {},
   "outputs": [],
   "source": []
  },
  {
   "cell_type": "markdown",
   "metadata": {},
   "source": [
    "4. Discuss the benefits of using composition over inheritance in Python, especially in terms of code flexibility and reusability.\n"
   ]
  },
  {
   "cell_type": "code",
   "execution_count": null,
   "metadata": {},
   "outputs": [],
   "source": []
  },
  {
   "cell_type": "markdown",
   "metadata": {},
   "source": [
    "5. How can you implement composition in Python classes? Provide examples of using composition to create complex objects.\n"
   ]
  },
  {
   "cell_type": "code",
   "execution_count": null,
   "metadata": {},
   "outputs": [],
   "source": []
  },
  {
   "cell_type": "markdown",
   "metadata": {},
   "source": [
    "6. Create a Python class hierarchy for a music player system, using composition to represent playlists and songs.\n"
   ]
  },
  {
   "cell_type": "code",
   "execution_count": null,
   "metadata": {},
   "outputs": [],
   "source": []
  },
  {
   "cell_type": "markdown",
   "metadata": {},
   "source": [
    "7. Explain the concept of \"has-a\" relationships in composition and how it helps design software systems.\n"
   ]
  },
  {
   "cell_type": "code",
   "execution_count": null,
   "metadata": {},
   "outputs": [],
   "source": []
  },
  {
   "cell_type": "markdown",
   "metadata": {},
   "source": [
    "8. Create a Python class for a computer system, using composition to represent components like CPU, RAM, and storage devices.\n"
   ]
  },
  {
   "cell_type": "code",
   "execution_count": null,
   "metadata": {},
   "outputs": [],
   "source": []
  },
  {
   "cell_type": "markdown",
   "metadata": {},
   "source": [
    "9. Describe the concept of \"delegation\" in composition and how it simplifies the design of complex systems.\n"
   ]
  },
  {
   "cell_type": "code",
   "execution_count": null,
   "metadata": {},
   "outputs": [],
   "source": []
  },
  {
   "cell_type": "markdown",
   "metadata": {},
   "source": [
    "10. Create a Python class for a car, using composition to represent components like the engine, wheels, and transmission.\n"
   ]
  },
  {
   "cell_type": "code",
   "execution_count": null,
   "metadata": {},
   "outputs": [],
   "source": []
  },
  {
   "cell_type": "markdown",
   "metadata": {},
   "source": [
    "11. How can you encapsulate and hide the details of composed objects in Python classes to maintain abstraction?\n"
   ]
  },
  {
   "cell_type": "code",
   "execution_count": null,
   "metadata": {},
   "outputs": [],
   "source": []
  },
  {
   "cell_type": "markdown",
   "metadata": {},
   "source": [
    "12. Create a Python class for a university course, using composition to represent students, instructors, and course materials.\n"
   ]
  },
  {
   "cell_type": "code",
   "execution_count": null,
   "metadata": {},
   "outputs": [],
   "source": []
  },
  {
   "cell_type": "markdown",
   "metadata": {},
   "source": [
    "13. Discuss the challenges and drawbacks of composition, such as increased complexity and potential for tight coupling between objects.\n"
   ]
  },
  {
   "cell_type": "code",
   "execution_count": null,
   "metadata": {},
   "outputs": [],
   "source": []
  },
  {
   "cell_type": "markdown",
   "metadata": {},
   "source": [
    "14. Create a Python class hierarchy for a restaurant system, using composition to represent menus, dishes, and ingredients.\n"
   ]
  },
  {
   "cell_type": "code",
   "execution_count": null,
   "metadata": {},
   "outputs": [],
   "source": []
  },
  {
   "cell_type": "markdown",
   "metadata": {},
   "source": [
    "15. Explain how composition enhances code maintainability and modularity in Python programs.\n"
   ]
  },
  {
   "cell_type": "code",
   "execution_count": null,
   "metadata": {},
   "outputs": [],
   "source": []
  },
  {
   "cell_type": "markdown",
   "metadata": {},
   "source": [
    "16. Create a Python class for a computer game character, using composition to represent attributes like weapons, armor, and inventory.\n"
   ]
  },
  {
   "cell_type": "code",
   "execution_count": null,
   "metadata": {},
   "outputs": [],
   "source": []
  },
  {
   "cell_type": "markdown",
   "metadata": {},
   "source": [
    "17. Describe the concept of \"aggregation\" in composition and how it differs from simple composition.\n"
   ]
  },
  {
   "cell_type": "code",
   "execution_count": null,
   "metadata": {},
   "outputs": [],
   "source": []
  },
  {
   "cell_type": "markdown",
   "metadata": {},
   "source": [
    "18. Create a Python class for a house, using composition to represent rooms, furniture, and appliances.\n"
   ]
  },
  {
   "cell_type": "code",
   "execution_count": null,
   "metadata": {},
   "outputs": [],
   "source": []
  },
  {
   "cell_type": "markdown",
   "metadata": {},
   "source": [
    "19. How can you achieve flexibility in composed objects by allowing them to be replaced or modified dynamically at runtime?\n"
   ]
  },
  {
   "cell_type": "code",
   "execution_count": null,
   "metadata": {},
   "outputs": [],
   "source": []
  },
  {
   "cell_type": "markdown",
   "metadata": {},
   "source": [
    "20. Create a Python class for a social media application, using composition to represent users, posts, and comments.\n"
   ]
  },
  {
   "cell_type": "markdown",
   "metadata": {},
   "source": []
  }
 ],
 "metadata": {
  "kernelspec": {
   "display_name": "Python 3",
   "language": "python",
   "name": "python3"
  },
  "language_info": {
   "codemirror_mode": {
    "name": "ipython",
    "version": 3
   },
   "file_extension": ".py",
   "mimetype": "text/x-python",
   "name": "python",
   "nbconvert_exporter": "python",
   "pygments_lexer": "ipython3",
   "version": "3.8.10"
  }
 },
 "nbformat": 4,
 "nbformat_minor": 2
}
